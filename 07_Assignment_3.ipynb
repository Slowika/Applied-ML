{
 "cells": [
  {
   "cell_type": "markdown",
   "metadata": {},
   "source": [
    "# Introductory applied machine learning (INFR10069)"
   ]
  },
  {
   "cell_type": "markdown",
   "metadata": {},
   "source": [
    "# Assignment 3: Object recognition"
   ]
  },
  {
   "cell_type": "markdown",
   "metadata": {},
   "source": [
    "why log regression as bad as baseline\n",
    "Present well with labelled plots and an insightful explanation and you'll bag 100."
   ]
  },
  {
   "cell_type": "markdown",
   "metadata": {},
   "source": [
    "## Marking Breakdown\n",
    "\n",
    "**70-100%** results/answer correct plus extra achievement at understanding or analysis of results. Clear explanations, evidence of creative or deeper thought will contribute to a higher grade.\n",
    "\n",
    "**60-69%** results/answer correct or nearly correct and well explained.\n",
    "\n",
    "**50-59%** results/answer in right direction but significant errors.\n",
    "\n",
    "**40-49%** some evidence that the student has gained some understanding, but not answered the questions\n",
    "properly.\n",
    "\n",
    "**0-39%** serious error or slack work."
   ]
  },
  {
   "cell_type": "markdown",
   "metadata": {},
   "source": [
    "## Mechanics\n",
    "\n",
    "Fill out this notebook, save it, and submit it **and a `.txt` file** (see Part 2) in answer to this assignment.\n",
    "**You need to submit these two files electronically as described below.**\n",
    "\n",
    "On a DICE environment, open the terminal, navigate to the location of this notebook, and submit this notebook file using the following command:\n",
    "\n",
    "`submit iaml cw2 07_Assignment_3.ipynb assignment_3_predictions.txt`\n",
    "\n",
    "What actually happens in the background is that your file is placed in a folder available to markers. If you submit a file with the same name into the same location, **it will *overwrite* your previous submission**. You can check the status of your submissions with the `show_submissions` command.\n",
    "\n",
    "**Distance Learners:** To copy your work up to DICE (such that you can use the `submit` command) you can use `scp` or `rsync` (you may need to install these yourself). You can copy files up using `student.ssh.inf.ed.ac.uk`, then ssh in to submit, e.g. (in a unix terminal):\n",
    "```\n",
    "filename1=07_Assignment_3.ipynb\n",
    "local_scp_filepath1=~/git/iaml2017/${filename1}\n",
    "filename2=assignment_3_predictions.txt\n",
    "local_scp_filepath2=~/git/iaml2017/${filename2}\n",
    "UUN=s0816700\n",
    "server_address=student.ssh.inf.ed.ac.uk\n",
    "scp -r ${local_scp_filepath1} ${UUN}@${server_address}:${filename1}\n",
    "scp -r ${local_scp_filepath2} ${UUN}@${server_address}:${filename2}\n",
    "# rsync -rl ${local_scp_filepath1} ${UUN}@${server_address}:${filename1}\n",
    "# rsync -rl ${local_scp_filepath2} ${UUN}@${server_address}:${filename2}\n",
    "ssh ${UUN}@${server_address}\n",
    "ssh student.login\n",
    "submit iaml cw2 07_Assignment_3.ipynb assignment_3_predictions.txt\n",
    "```\n",
    "\n",
    "**Late submissions:** The policy stated in the School of Informatics MSc Degree Guide is that normally you will not be allowed to submit coursework late. See http://www.inf.ed.ac.uk/teaching/years/msc/courseguide10.html#exam for exceptions to this, e.g. in case of serious medical illness or serious personal problems.\n",
    "\n",
    "**Collaboration:** You may discuss the assignment with your colleagues, provided that the writing that you submit is entirely your own. That is, you should NOT borrow actual text or code from other students. We ask that you provide a list of the people who you've had discussions with (if any).\n",
    "\n",
    "**Resubmission:** If you submit your file again, the previous submission is **overwritten**. We will mark the version that is in the submission folder at the deadline."
   ]
  },
  {
   "cell_type": "markdown",
   "metadata": {},
   "source": [
    "## Important Instructions\n",
    "\n",
    "1. You *MUST* have your environment set up as in the [README](https://github.com/JamesOwers/iaml2017) and you *must activate this environment before running this notebook*:\n",
    "```\n",
    "source activate iaml\n",
    "cd iaml_2017\n",
    "jupyter notebook\n",
    "# Navigate to this file\n",
    "```\n",
    "\n",
    "1. Wherever you are required to produce code you should use code cells, otherwise you should use markdown cells to report results and explain answers.\n",
    "\n",
    "1. The .csv files that you will be using are located at `./datasets` (the `datasets` directory is adjacent to this file).\n",
    "\n",
    "1. **IMPORTANT:** Keep your answers brief and concise. Most written questions can be answered with 2-3 lines of explanation."
   ]
  },
  {
   "cell_type": "markdown",
   "metadata": {},
   "source": [
    "## Imports\n",
    "\n",
    "Include all required imports and execute the cell below. It's typical to include package imports at the top of the file for clarity."
   ]
  },
  {
   "cell_type": "code",
   "execution_count": 105,
   "metadata": {
    "collapsed": true
   },
   "outputs": [],
   "source": [
    "from __future__ import print_function, division\n",
    "from sklearn.dummy import DummyClassifier\n",
    "import matplotlib.pyplot as plt\n",
    "import pandas as pd\n",
    "import os\n",
    "import seaborn as sns\n",
    "from sklearn.linear_model import LogisticRegression\n",
    "from sklearn.neural_network import MLPClassifier\n",
    "import numpy as np\n",
    "from sklearn.preprocessing import StandardScaler\n",
    "from sklearn.metrics import precision_score, recall_score\n",
    "from sklearn.metrics import log_loss\n",
    "from sklearn.model_selection import KFold\n",
    "from sklearn.linear_model import LogisticRegressionCV\n",
    "from sklearn.ensemble import RandomForestClassifier, GradientBoostingClassifier\n",
    "from sklearn.svm import LinearSVC, SVC\n",
    "from sklearn.decomposition import PCA\n",
    "from sklearn.feature_selection import SelectKBest, chi2, f_classif\n",
    "from numpy import unravel_index\n",
    "from sklearn.pipeline import make_pipeline\n",
    "%matplotlib inline"
   ]
  },
  {
   "cell_type": "markdown",
   "metadata": {},
   "source": [
    "## Description of the dataset\n",
    "In this assignment our goal is to recognize objects in images of realistic scenes. There are 19 different classes of object e.g. person, dog, cat, car, etc. The dataset derives from several thousands photographs harvested from the web. Each object of a relevant class has been manually annotated with a bounding box. Images can contain none, one or multiple objects of each class. We have prepared a [website](http://www.inf.ed.ac.uk/teaching/courses/iaml/2014/assts/asst3/images.html) where you can view the images.\n",
    "\n",
    "We are going to detect whether images contain a person or not - a binary classification problem. To save you time and to make the problem manageable with limited computational resources, we have preprocessed the dataset. We will use the [Bag of Visual Words](https://en.wikipedia.org/wiki/Bag-of-words_model_in_computer_vision) representation. Each column of the dataset (which is not an lable), refers to a 'visual word'. Each image is represented by a 500 dimensional vector that contains the normalized count for each of 500 different visual words present in the respective image (a similar representation is used for the spambase dataset, just for real words). See the Appendix at the bottom of the notebook for more information. The image data is thus a $N \\times 500$ dimensional matrix where `N` is the number of images.\n",
    "\n",
    "The full dataset has 520 attributes (dimensions). The first attribute (`imgID`) contains the image ID which allows you to associate a data point with an actual image. The next 500 attributes (`dim1`, ..., `dim500`) are a normalized count vector for each visual word. The last 19 attributes (`is_class`) are the labels - 1 means the class is present in the image. In most of the experiments (unless explicitly noted otherwise) you will only need the `is_person` attribute and the 500 dimensional feature vector. **Do not use the additional class indicator attributes as features** unless explicitly told to do so. \n",
    "\n",
    "In Part A we provide you with a training (`train_images partA.csv`) and a validation (`valid_images partA .csv`) dataset. In Part B we provide three data sets: a training set (`train_images partB.csv`), a validation set (`valid_images partB.csv`), and a test set (`test_images partB.csv`). The training and validation set contain valid labels. In the test set the labels are missing. The files are available from the GitHub repository. \n",
    "\n",
    "**Important**: *Throughout the assignment you will be given various versions of the dataset that are relevant\n",
    "to a particular question. Please be careful to use the correct version of the dataset when instructed to do so.\n",
    "If you use the wrong version of the dataset by mistake no marks will be awarded.*"
   ]
  },
  {
   "cell_type": "markdown",
   "metadata": {},
   "source": [
    "## 1. Exploration of the dataset [70%]"
   ]
  },
  {
   "cell_type": "markdown",
   "metadata": {},
   "source": [
    "### ========== Question 1.1 --- [1 mark] ==========\n",
    "Create two Pandas DataFrame objects called `train_A` and `valid_A` by loading the datasets `train_images_partA.csv` and `valid_images_partA.csv`. Display the number of data points and attributes in each of the two datasets."
   ]
  },
  {
   "cell_type": "code",
   "execution_count": 106,
   "metadata": {},
   "outputs": [
    {
     "name": "stdout",
     "output_type": "stream",
     "text": [
      "Number of data points in train_A: 2093, number of attributes: 520\n",
      "Number of data point in valid_A: 1113, number of attributes: 520\n"
     ]
    }
   ],
   "source": [
    "data_path = os.path.join(os.getcwd(), 'datasets')\n",
    "\n",
    "\n",
    "train_A = pd.read_csv(data_path + '/train_images_partA.csv')\n",
    "valid_A = pd.read_csv(data_path + '/valid_images_partA.csv')\n",
    "\n",
    "print('Number of data points in train_A: {}, number of attributes: {}'.format(train_A.shape[0], train_A.shape[1]))\n",
    "print('Number of data point in valid_A: {}, number of attributes: {}'.format(valid_A.shape[0], valid_A.shape[1]))"
   ]
  },
  {
   "cell_type": "markdown",
   "metadata": {},
   "source": [
    "### ========== Question 1.2 --- [1 mark] ==========\n",
    "Display and inspect the first 10 instances in the training dataset."
   ]
  },
  {
   "cell_type": "code",
   "execution_count": 107,
   "metadata": {},
   "outputs": [
    {
     "data": {
      "text/html": [
       "<div>\n",
       "<style>\n",
       "    .dataframe thead tr:only-child th {\n",
       "        text-align: right;\n",
       "    }\n",
       "\n",
       "    .dataframe thead th {\n",
       "        text-align: left;\n",
       "    }\n",
       "\n",
       "    .dataframe tbody tr th {\n",
       "        vertical-align: top;\n",
       "    }\n",
       "</style>\n",
       "<table border=\"1\" class=\"dataframe\">\n",
       "  <thead>\n",
       "    <tr style=\"text-align: right;\">\n",
       "      <th></th>\n",
       "      <th>imgId</th>\n",
       "      <th>dim1</th>\n",
       "      <th>dim2</th>\n",
       "      <th>dim3</th>\n",
       "      <th>dim4</th>\n",
       "      <th>dim5</th>\n",
       "      <th>dim6</th>\n",
       "      <th>dim7</th>\n",
       "      <th>dim8</th>\n",
       "      <th>dim9</th>\n",
       "      <th>...</th>\n",
       "      <th>is_cow</th>\n",
       "      <th>is_diningtable</th>\n",
       "      <th>is_dog</th>\n",
       "      <th>is_horse</th>\n",
       "      <th>is_motorbike</th>\n",
       "      <th>is_person</th>\n",
       "      <th>is_pottedplant</th>\n",
       "      <th>is_sheep</th>\n",
       "      <th>is_sofa</th>\n",
       "      <th>is_tvmonitor</th>\n",
       "    </tr>\n",
       "  </thead>\n",
       "  <tbody>\n",
       "    <tr>\n",
       "      <th>0</th>\n",
       "      <td>2008_000008</td>\n",
       "      <td>0.002232</td>\n",
       "      <td>0.000558</td>\n",
       "      <td>0.002790</td>\n",
       "      <td>0.000837</td>\n",
       "      <td>0.001674</td>\n",
       "      <td>0.001953</td>\n",
       "      <td>0.001395</td>\n",
       "      <td>0.002232</td>\n",
       "      <td>0.003627</td>\n",
       "      <td>...</td>\n",
       "      <td>0</td>\n",
       "      <td>0</td>\n",
       "      <td>0</td>\n",
       "      <td>1</td>\n",
       "      <td>0</td>\n",
       "      <td>1</td>\n",
       "      <td>0</td>\n",
       "      <td>0</td>\n",
       "      <td>0</td>\n",
       "      <td>0</td>\n",
       "    </tr>\n",
       "    <tr>\n",
       "      <th>1</th>\n",
       "      <td>2008_000015</td>\n",
       "      <td>0.001563</td>\n",
       "      <td>0.000391</td>\n",
       "      <td>0.007422</td>\n",
       "      <td>0.003516</td>\n",
       "      <td>0.003906</td>\n",
       "      <td>0.005078</td>\n",
       "      <td>0.001953</td>\n",
       "      <td>0.002344</td>\n",
       "      <td>0.001953</td>\n",
       "      <td>...</td>\n",
       "      <td>0</td>\n",
       "      <td>0</td>\n",
       "      <td>0</td>\n",
       "      <td>0</td>\n",
       "      <td>0</td>\n",
       "      <td>0</td>\n",
       "      <td>0</td>\n",
       "      <td>0</td>\n",
       "      <td>0</td>\n",
       "      <td>0</td>\n",
       "    </tr>\n",
       "    <tr>\n",
       "      <th>2</th>\n",
       "      <td>2008_000019</td>\n",
       "      <td>0.000521</td>\n",
       "      <td>0.000000</td>\n",
       "      <td>0.000000</td>\n",
       "      <td>0.001042</td>\n",
       "      <td>0.001563</td>\n",
       "      <td>0.005729</td>\n",
       "      <td>0.000521</td>\n",
       "      <td>0.002083</td>\n",
       "      <td>0.003646</td>\n",
       "      <td>...</td>\n",
       "      <td>0</td>\n",
       "      <td>0</td>\n",
       "      <td>1</td>\n",
       "      <td>0</td>\n",
       "      <td>0</td>\n",
       "      <td>0</td>\n",
       "      <td>0</td>\n",
       "      <td>0</td>\n",
       "      <td>0</td>\n",
       "      <td>0</td>\n",
       "    </tr>\n",
       "    <tr>\n",
       "      <th>3</th>\n",
       "      <td>2008_000023</td>\n",
       "      <td>0.002976</td>\n",
       "      <td>0.002232</td>\n",
       "      <td>0.004464</td>\n",
       "      <td>0.000372</td>\n",
       "      <td>0.000372</td>\n",
       "      <td>0.002232</td>\n",
       "      <td>0.000000</td>\n",
       "      <td>0.003720</td>\n",
       "      <td>0.000000</td>\n",
       "      <td>...</td>\n",
       "      <td>0</td>\n",
       "      <td>0</td>\n",
       "      <td>0</td>\n",
       "      <td>0</td>\n",
       "      <td>0</td>\n",
       "      <td>1</td>\n",
       "      <td>0</td>\n",
       "      <td>0</td>\n",
       "      <td>0</td>\n",
       "      <td>1</td>\n",
       "    </tr>\n",
       "    <tr>\n",
       "      <th>4</th>\n",
       "      <td>2008_000028</td>\n",
       "      <td>0.001359</td>\n",
       "      <td>0.000340</td>\n",
       "      <td>0.001359</td>\n",
       "      <td>0.000340</td>\n",
       "      <td>0.001359</td>\n",
       "      <td>0.002038</td>\n",
       "      <td>0.002378</td>\n",
       "      <td>0.000000</td>\n",
       "      <td>0.003397</td>\n",
       "      <td>...</td>\n",
       "      <td>0</td>\n",
       "      <td>0</td>\n",
       "      <td>0</td>\n",
       "      <td>0</td>\n",
       "      <td>0</td>\n",
       "      <td>0</td>\n",
       "      <td>0</td>\n",
       "      <td>0</td>\n",
       "      <td>0</td>\n",
       "      <td>0</td>\n",
       "    </tr>\n",
       "    <tr>\n",
       "      <th>5</th>\n",
       "      <td>2008_000033</td>\n",
       "      <td>0.000000</td>\n",
       "      <td>0.006324</td>\n",
       "      <td>0.000372</td>\n",
       "      <td>0.000372</td>\n",
       "      <td>0.000372</td>\n",
       "      <td>0.000372</td>\n",
       "      <td>0.000744</td>\n",
       "      <td>0.008185</td>\n",
       "      <td>0.000372</td>\n",
       "      <td>...</td>\n",
       "      <td>0</td>\n",
       "      <td>0</td>\n",
       "      <td>0</td>\n",
       "      <td>0</td>\n",
       "      <td>0</td>\n",
       "      <td>0</td>\n",
       "      <td>0</td>\n",
       "      <td>0</td>\n",
       "      <td>0</td>\n",
       "      <td>0</td>\n",
       "    </tr>\n",
       "    <tr>\n",
       "      <th>6</th>\n",
       "      <td>2008_000036</td>\n",
       "      <td>0.000340</td>\n",
       "      <td>0.000000</td>\n",
       "      <td>0.004416</td>\n",
       "      <td>0.000340</td>\n",
       "      <td>0.000679</td>\n",
       "      <td>0.006114</td>\n",
       "      <td>0.001359</td>\n",
       "      <td>0.002717</td>\n",
       "      <td>0.003057</td>\n",
       "      <td>...</td>\n",
       "      <td>0</td>\n",
       "      <td>0</td>\n",
       "      <td>0</td>\n",
       "      <td>0</td>\n",
       "      <td>0</td>\n",
       "      <td>1</td>\n",
       "      <td>0</td>\n",
       "      <td>0</td>\n",
       "      <td>0</td>\n",
       "      <td>0</td>\n",
       "    </tr>\n",
       "    <tr>\n",
       "      <th>7</th>\n",
       "      <td>2008_000037</td>\n",
       "      <td>0.000837</td>\n",
       "      <td>0.002232</td>\n",
       "      <td>0.000279</td>\n",
       "      <td>0.000279</td>\n",
       "      <td>0.000837</td>\n",
       "      <td>0.000000</td>\n",
       "      <td>0.000279</td>\n",
       "      <td>0.006696</td>\n",
       "      <td>0.000000</td>\n",
       "      <td>...</td>\n",
       "      <td>0</td>\n",
       "      <td>0</td>\n",
       "      <td>0</td>\n",
       "      <td>0</td>\n",
       "      <td>0</td>\n",
       "      <td>0</td>\n",
       "      <td>0</td>\n",
       "      <td>0</td>\n",
       "      <td>0</td>\n",
       "      <td>0</td>\n",
       "    </tr>\n",
       "    <tr>\n",
       "      <th>8</th>\n",
       "      <td>2008_000041</td>\n",
       "      <td>0.002378</td>\n",
       "      <td>0.001359</td>\n",
       "      <td>0.004755</td>\n",
       "      <td>0.001019</td>\n",
       "      <td>0.003736</td>\n",
       "      <td>0.001359</td>\n",
       "      <td>0.001019</td>\n",
       "      <td>0.004076</td>\n",
       "      <td>0.003397</td>\n",
       "      <td>...</td>\n",
       "      <td>0</td>\n",
       "      <td>1</td>\n",
       "      <td>0</td>\n",
       "      <td>0</td>\n",
       "      <td>0</td>\n",
       "      <td>1</td>\n",
       "      <td>0</td>\n",
       "      <td>0</td>\n",
       "      <td>0</td>\n",
       "      <td>0</td>\n",
       "    </tr>\n",
       "    <tr>\n",
       "      <th>9</th>\n",
       "      <td>2008_000045</td>\n",
       "      <td>0.001019</td>\n",
       "      <td>0.000340</td>\n",
       "      <td>0.006454</td>\n",
       "      <td>0.001698</td>\n",
       "      <td>0.001359</td>\n",
       "      <td>0.003736</td>\n",
       "      <td>0.000000</td>\n",
       "      <td>0.004076</td>\n",
       "      <td>0.000000</td>\n",
       "      <td>...</td>\n",
       "      <td>0</td>\n",
       "      <td>0</td>\n",
       "      <td>0</td>\n",
       "      <td>0</td>\n",
       "      <td>0</td>\n",
       "      <td>0</td>\n",
       "      <td>0</td>\n",
       "      <td>0</td>\n",
       "      <td>0</td>\n",
       "      <td>0</td>\n",
       "    </tr>\n",
       "  </tbody>\n",
       "</table>\n",
       "<p>10 rows × 520 columns</p>\n",
       "</div>"
      ],
      "text/plain": [
       "         imgId      dim1      dim2      dim3      dim4      dim5      dim6  \\\n",
       "0  2008_000008  0.002232  0.000558  0.002790  0.000837  0.001674  0.001953   \n",
       "1  2008_000015  0.001563  0.000391  0.007422  0.003516  0.003906  0.005078   \n",
       "2  2008_000019  0.000521  0.000000  0.000000  0.001042  0.001563  0.005729   \n",
       "3  2008_000023  0.002976  0.002232  0.004464  0.000372  0.000372  0.002232   \n",
       "4  2008_000028  0.001359  0.000340  0.001359  0.000340  0.001359  0.002038   \n",
       "5  2008_000033  0.000000  0.006324  0.000372  0.000372  0.000372  0.000372   \n",
       "6  2008_000036  0.000340  0.000000  0.004416  0.000340  0.000679  0.006114   \n",
       "7  2008_000037  0.000837  0.002232  0.000279  0.000279  0.000837  0.000000   \n",
       "8  2008_000041  0.002378  0.001359  0.004755  0.001019  0.003736  0.001359   \n",
       "9  2008_000045  0.001019  0.000340  0.006454  0.001698  0.001359  0.003736   \n",
       "\n",
       "       dim7      dim8      dim9      ...       is_cow  is_diningtable  is_dog  \\\n",
       "0  0.001395  0.002232  0.003627      ...            0               0       0   \n",
       "1  0.001953  0.002344  0.001953      ...            0               0       0   \n",
       "2  0.000521  0.002083  0.003646      ...            0               0       1   \n",
       "3  0.000000  0.003720  0.000000      ...            0               0       0   \n",
       "4  0.002378  0.000000  0.003397      ...            0               0       0   \n",
       "5  0.000744  0.008185  0.000372      ...            0               0       0   \n",
       "6  0.001359  0.002717  0.003057      ...            0               0       0   \n",
       "7  0.000279  0.006696  0.000000      ...            0               0       0   \n",
       "8  0.001019  0.004076  0.003397      ...            0               1       0   \n",
       "9  0.000000  0.004076  0.000000      ...            0               0       0   \n",
       "\n",
       "   is_horse  is_motorbike  is_person  is_pottedplant  is_sheep  is_sofa  \\\n",
       "0         1             0          1               0         0        0   \n",
       "1         0             0          0               0         0        0   \n",
       "2         0             0          0               0         0        0   \n",
       "3         0             0          1               0         0        0   \n",
       "4         0             0          0               0         0        0   \n",
       "5         0             0          0               0         0        0   \n",
       "6         0             0          1               0         0        0   \n",
       "7         0             0          0               0         0        0   \n",
       "8         0             0          1               0         0        0   \n",
       "9         0             0          0               0         0        0   \n",
       "\n",
       "   is_tvmonitor  \n",
       "0             0  \n",
       "1             0  \n",
       "2             0  \n",
       "3             1  \n",
       "4             0  \n",
       "5             0  \n",
       "6             0  \n",
       "7             0  \n",
       "8             0  \n",
       "9             0  \n",
       "\n",
       "[10 rows x 520 columns]"
      ]
     },
     "execution_count": 107,
     "metadata": {},
     "output_type": "execute_result"
    }
   ],
   "source": [
    "train_A.head(10)"
   ]
  },
  {
   "cell_type": "markdown",
   "metadata": {},
   "source": [
    "### ========== Question 1.3 --- [1 mark] ==========\n",
    "Select the attributes (i.e. input features) for training our classifiers. These should be the visual word normalised counts `dim1, dim2, ..., dim500`. Create a list of the **names** of the attributes of interest. "
   ]
  },
  {
   "cell_type": "code",
   "execution_count": 108,
   "metadata": {
    "collapsed": true
   },
   "outputs": [],
   "source": [
    "features = train_A.iloc[:,1:501]\n",
    "features_names = features.columns.tolist()"
   ]
  },
  {
   "cell_type": "markdown",
   "metadata": {},
   "source": [
    "### ========== Question 1.4 --- [1 mark] ==========\n",
    "By using the list from Question 1.3 now create 4 numpy arrays `X_tr`, `X_val`, `y_tr` and `y_val` in which to store the training features, validation features, training targets, and validation targets, respectively. Your target vectors should correspond to the `is_person` attribute of the training and validation sets. Display the dimensionalities (i.e shapes) of the 4 arrays. \n",
    "\n",
    "Check this carefully - you will be penalised in following questions if the data is not correct!"
   ]
  },
  {
   "cell_type": "code",
   "execution_count": 109,
   "metadata": {},
   "outputs": [
    {
     "name": "stdout",
     "output_type": "stream",
     "text": [
      "Shape of training features: (2093, 500), shape of training target: (2093,)\n",
      "Shape of validation features: (1113, 500), shape of validation target: (1113,)\n"
     ]
    }
   ],
   "source": [
    "X_tr = train_A[features_names]\n",
    "y_tr = train_A['is_person']\n",
    "\n",
    "print('Shape of training features: {}, shape of training target: {}'.format(X_tr.shape, y_tr.shape))\n",
    "\n",
    "X_val = valid_A[features_names]\n",
    "y_val = valid_A['is_person']\n",
    "\n",
    "print('Shape of validation features: {}, shape of validation target: {}'.format(X_val.shape, y_val.shape))"
   ]
  },
  {
   "cell_type": "markdown",
   "metadata": {},
   "source": [
    "### ========== Question 1.5 --- [2 marks] ==========\n",
    "Create a [countplots](https://seaborn.github.io/generated/seaborn.countplot.html?highlight=countplot#seaborn.countplot) for the training and validation targets. Create a single figure, and put the two plots inside the single figure. Label axes appropriately and add a title to your plot. Use descriptive `xticklabels` instead of the default numeric ones."
   ]
  },
  {
   "cell_type": "code",
   "execution_count": 110,
   "metadata": {},
   "outputs": [
    {
     "data": {
      "image/png": "[encoded data removed]",
      "text/plain": [
       "<matplotlib.figure.Figure at 0x10f7b92d0>"
      ]
     },
     "metadata": {},
     "output_type": "display_data"
    }
   ],
   "source": [
    "train_A['training_data'] = 1\n",
    "valid_A['training_data'] = 0\n",
    "\n",
    "temp = train_A.append(valid_A)\n",
    "\n",
    "\n",
    "fig = plt.figure(1)\n",
    "ax = fig.add_subplot(111)\n",
    "sns.countplot(x = temp['training_data'], hue=temp['is_person'], data=temp)\n",
    "plt.xlabel('Image content')\n",
    "plt.ylabel('Count')\n",
    "ax.set_xticklabels(['Validation data', 'Training data'])\n",
    "_ = plt.title('Distribution of images of people in the training and validation data')"
   ]
  },
  {
   "cell_type": "markdown",
   "metadata": {},
   "source": [
    "### ========== Question 1.6 --- [1 mark] ==========\n",
    "We want to make a baseline classification accuracy to beat. Pick a baseline \"dummy\" classifier, describe in a sentence why you chose it, and report the accuracy it achieves on the validation set?"
   ]
  },
  {
   "cell_type": "markdown",
   "metadata": {},
   "source": [
    "We want to have a baseline that maximizes the metric of interest (accuracy) with a naive/dummy method. We assume that both classes are equally important so I'm choosing most_frequent strategy - assigning all examples to not a person class - because it will give the highest accuracy.  "
   ]
  },
  {
   "cell_type": "code",
   "execution_count": 111,
   "metadata": {},
   "outputs": [
    {
     "name": "stdout",
     "output_type": "stream",
     "text": [
      "Accuracy of the dummy clasifier on the training set: 0.551\n",
      "Accuracy of the dummy clasifier on the validation set: 0.527\n"
     ]
    }
   ],
   "source": [
    "dummy = DummyClassifier(strategy = 'most_frequent', constant = 1)\n",
    "val_accuracy = dummy.fit(X_tr, y_tr).score(X_val, y_val)\n",
    "train_accuracy = dummy.fit(X_tr, y_tr).score(X_tr, y_tr)\n",
    "print(\"Accuracy of the dummy clasifier on the training set: {:.3f}\".format(train_accuracy))\n",
    "print(\"Accuracy of the dummy clasifier on the validation set: {:.3f}\".format(val_accuracy))"
   ]
  },
  {
   "cell_type": "markdown",
   "metadata": {},
   "source": [
    "### ========== Question 1.7 --- [3 marks] ==========\n",
    "Train a [`LogisticRegression`](http://scikit-learn.org/0.17/modules/generated/sklearn.linear_model.LogisticRegression.html) classifier using default settings, except for the `solver` parameter which you should set to `lbfgs`. Report the classification accuracy score on the training and validation sets and compare with the baseline. Comment on the results with 1-2 sentences. You may include any additional plot(s) if you wish to justify your explanation."
   ]
  },
  {
   "cell_type": "code",
   "execution_count": 112,
   "metadata": {},
   "outputs": [
    {
     "name": "stdout",
     "output_type": "stream",
     "text": [
      "Training accuracy: 0.551\n",
      "Validation accuracy: 0.527\n"
     ]
    },
    {
     "data": {
      "image/png": "[encoded data removed]",
      "text/plain": [
       "<matplotlib.figure.Figure at 0x10f948150>"
      ]
     },
     "metadata": {},
     "output_type": "display_data"
    }
   ],
   "source": [
    "lr = LogisticRegression(solver=\"lbfgs\")\n",
    "lr.fit(X_tr, y_tr)\n",
    "print(\"Training accuracy: {:.3f}\".format(lr.score(X_tr, y_tr)))\n",
    "print(\"Validation accuracy: {:.3f}\".format(lr.score(X_val, y_val)))\n",
    "\n",
    "plt.subplot(221)\n",
    "plt.hist(lr.predict(X_tr))\n",
    "plt.title(\"pred: train\")\n",
    "plt.subplot(222)\n",
    "plt.hist(lr.predict(X_val))\n",
    "_ = plt.title(\"pred: val\")\n",
    "\n",
    "#print(\"Coefficients: {}\".format(lr.coef_))\n",
    "#print(\"Intercept: {}\".format(lr.intercept_))"
   ]
  },
  {
   "cell_type": "markdown",
   "metadata": {},
   "source": [
    "Logistic regression predicts the most frequent class (0) for all the data points, both in the validation and training dataset - it gives the same results as the baseline. Logistic regression predicts probability of the data point being in a given class. If the threshold is set to 0.5 and the probability of data point being in the positive class is lower than 0.5 it assigns the negative label to all the data points."
   ]
  },
  {
   "cell_type": "markdown",
   "metadata": {},
   "source": [
    "### ========== Question 1.8 --- [1 mark] ==========\n",
    "Display the means and standard deviations of the first 5 features in the training set. *Hint: you want to compute the means and standard deviations for each column in your arrays. Make sure you make appropriate use of the `axis` parameter.*"
   ]
  },
  {
   "cell_type": "code",
   "execution_count": 113,
   "metadata": {},
   "outputs": [
    {
     "name": "stdout",
     "output_type": "stream",
     "text": [
      "Mean values: \n",
      "dim1    0.001751\n",
      "dim2    0.000756\n",
      "dim3    0.004317\n",
      "dim4    0.001853\n",
      "dim5    0.002272\n",
      "dtype: float64\n",
      "Std values: \n",
      "dim1    0.001193\n",
      "dim2    0.001406\n",
      "dim3    0.003693\n",
      "dim4    0.001340\n",
      "dim5    0.001598\n",
      "dtype: float64\n"
     ]
    }
   ],
   "source": [
    "first_5 = train_A.iloc[:,1:6]\n",
    "\n",
    "print(\"Mean values: \")\n",
    "print(first_5.mean(axis = 0))\n",
    "print(\"Std values: \")\n",
    "print(first_5.std(axis = 0))\n",
    "\n",
    "# the counts are normalized, but they aren't centered around 0"
   ]
  },
  {
   "cell_type": "markdown",
   "metadata": {},
   "source": [
    "### ========== Question 1.9 --- [3 marks] ==========\n",
    "Feature standardisation is a pre-processing technique used to transform data so that they have zero mean and unit standard deviation. For many algorithms, this is a very important step for training models (both regression and classification). Read about [feature standardisation](http://scikit-learn.org/0.17/modules/preprocessing.html) and make sure you understand what kind of transformation this method applies to the data.\n",
    "\n",
    "`Scikit-learn` offers a [class](http://scikit-learn.org/0.17/modules/generated/sklearn.preprocessing.StandardScaler.html) for feature standardisation. Instansiate a StandardScaler object and fit it using the **training features**. Use this fitted object to transform both your training and validation features to have a standard scale. \n",
    "\n",
    "Once your training and validation input data have been transformed, display the means and standard deviations of the first 5 attributes for **both** the training and validation sets. Are the results as you expected? Explain your answer in 2-3 sentences. Why didn't we use the validation set to standardise the data?\n",
    "\n",
    "**IMPORTANT: You should use the transformed data for the rest of this part.**"
   ]
  },
  {
   "cell_type": "code",
   "execution_count": 114,
   "metadata": {},
   "outputs": [
    {
     "name": "stdout",
     "output_type": "stream",
     "text": [
      "Mean of the transformed training dataset for the feature nr 1.000: \n",
      "-3.39485301367e-17\n",
      "Std of the transformed training dataset for the feature nr 1.000: \n",
      "1.0\n",
      "Mean of the transformed validation dataset for the feature nr 1.000: \n",
      "-0.00550612324325\n",
      "Std of the transformed validation dataset for the feature nr 1.000: \n",
      "1.0131088626\n",
      "Mean of the transformed training dataset for the feature nr 2.000: \n",
      "-2.20665445888e-17\n",
      "Std of the transformed training dataset for the feature nr 2.000: \n",
      "1.0\n",
      "Mean of the transformed validation dataset for the feature nr 2.000: \n",
      "-0.0382933020105\n",
      "Std of the transformed validation dataset for the feature nr 2.000: \n",
      "0.969819492563\n",
      "Mean of the transformed training dataset for the feature nr 3.000: \n",
      "2.44429416984e-16\n",
      "Std of the transformed training dataset for the feature nr 3.000: \n",
      "1.0\n",
      "Mean of the transformed validation dataset for the feature nr 3.000: \n",
      "0.109150976593\n",
      "Std of the transformed validation dataset for the feature nr 3.000: \n",
      "1.04922849828\n",
      "Mean of the transformed training dataset for the feature nr 4.000: \n",
      "1.42583826574e-16\n",
      "Std of the transformed training dataset for the feature nr 4.000: \n",
      "1.0\n",
      "Mean of the transformed validation dataset for the feature nr 4.000: \n",
      "0.0936931390572\n",
      "Std of the transformed validation dataset for the feature nr 4.000: \n",
      "1.05684478815\n",
      "Mean of the transformed training dataset for the feature nr 5.000: \n",
      "-5.77125012323e-17\n",
      "Std of the transformed training dataset for the feature nr 5.000: \n",
      "1.0\n",
      "Mean of the transformed validation dataset for the feature nr 5.000: \n",
      "0.0305784372474\n",
      "Std of the transformed validation dataset for the feature nr 5.000: \n",
      "0.974713362919\n"
     ]
    }
   ],
   "source": [
    "scaler = StandardScaler()\n",
    "scaler.fit(X_tr)\n",
    "\n",
    "trans_X_tr = scaler.transform(X_tr)\n",
    "trans_X_val = scaler.transform(X_val)\n",
    "\n",
    "for i in range(0, 5):\n",
    "    print(\"Mean of the transformed training dataset for the feature nr {:.3f}: \".format(i+1))\n",
    "    print(np.mean(trans_X_tr[:, i]))\n",
    "    print(\"Std of the transformed training dataset for the feature nr {:.3f}: \".format(i+1))\n",
    "    print(np.std(trans_X_tr[:, i]))\n",
    "    print(\"Mean of the transformed validation dataset for the feature nr {:.3f}: \".format(i+1))\n",
    "    print(np.mean(trans_X_val[:, i]))\n",
    "    print(\"Std of the transformed validation dataset for the feature nr {:.3f}: \".format(i+1))\n",
    "    print(np.std(trans_X_val[:, i]))"
   ]
  },
  {
   "cell_type": "markdown",
   "metadata": {},
   "source": [
    "As expected, standard deviation of the training dataset is constant and equal to 1 and the mean value is close to 0.0. The validation set was transformed too and the distribution of each individual feature in the set is close to standard normal distribution, which is what we wanted. We want to compute the mean and standard deviation on a training set and re-apply the same transformation on the validation set. It doesn't make sense to use the statistics of validation/testing set (that should represent the unseen data) in the training phase, including the variables scaling. But we make the assumption that the unseen data has roughly the same distribution as the data model was trained on so we use the same scaler for both training and validation set."
   ]
  },
  {
   "cell_type": "markdown",
   "metadata": {},
   "source": [
    "### ========== Question 1.10 --- [3 marks] ==========\n",
    "By using the transformed input data, train a new `LogisticRegression` classifier. Again, set the `solver` parameter to `lbfgs` and use default settings for the other parameters. Report the classification accuracy on both the training and validation sets.\n",
    "\n",
    "Comment on how your model compares to the baseline classifier from Question 1.6? You may use additional plot(s) to support your explanation."
   ]
  },
  {
   "cell_type": "code",
   "execution_count": 115,
   "metadata": {},
   "outputs": [
    {
     "name": "stdout",
     "output_type": "stream",
     "text": [
      "Training accuracy: 0.811\n",
      "Validation accuracy: 0.643\n",
      "Precision: 0.596\n",
      "Recall: 0.631\n"
     ]
    },
    {
     "data": {
      "image/png": "[encoded data removed]",
      "text/plain": [
       "<matplotlib.figure.Figure at 0x11af466d0>"
      ]
     },
     "metadata": {},
     "output_type": "display_data"
    }
   ],
   "source": [
    "lr = LogisticRegression(solver=\"lbfgs\")\n",
    "lr.fit(trans_X_tr, y_tr)\n",
    "print(\"Training accuracy: {:.3f}\".format(lr.score(trans_X_tr, y_tr)))\n",
    "print(\"Validation accuracy: {:.3f}\".format(lr.score(trans_X_val, y_val)))\n",
    "\n",
    "plt.subplot(221)\n",
    "plt.hist(lr.predict(trans_X_tr))\n",
    "plt.title(\"pred: train\")\n",
    "plt.subplot(222)\n",
    "plt.hist(lr.predict(trans_X_val))\n",
    "_ = plt.title(\"pred: val\")\n",
    "\n",
    "print(\"Precision: {:.3f}\".format(precision_score(lr.predict(trans_X_val), y_val)))\n",
    "print(\"Recall: {:.3f}\".format(recall_score(lr.predict(trans_X_val), y_val)))\n",
    "\n",
    "#print(\"Coefficients: {}\".format(lr.coef_))\n",
    "#print(\"Intercept: {}\".format(lr.intercept_))"
   ]
  },
  {
   "cell_type": "markdown",
   "metadata": {},
   "source": [
    "The model trained on features centered at 0 and with a unit standard deviation learned to predict both classes with a rather high accuracy. The coefficients are now more interpretable.  "
   ]
  },
  {
   "cell_type": "markdown",
   "metadata": {},
   "source": [
    "### ========== Question 1.11 --- [1 mark] ==========\n",
    "So far we have used default settings for training the logistic regression classifier. Now, we want to use [K-fold cross-validation](http://scikit-learn.org/stable/modules/generated/sklearn.model_selection.KFold.html) to optimise the regularisation parameter `C`. The regularisation parameter controls the degree to which we wish to penalise large magnitudes in the weight vector. This can help us prevent overfitting but, if set too high, could lead us to underfit too.\n",
    "\n",
    "Create a 3-fold cross-validation object. Set the `shuffle` parameter to `True` and the `random_state` to `0`. By using the cross-validation iterator, display the number of test samples for each fold."
   ]
  },
  {
   "cell_type": "code",
   "execution_count": 116,
   "metadata": {},
   "outputs": [
    {
     "name": "stdout",
     "output_type": "stream",
     "text": [
      "698\n",
      "698\n",
      "697\n"
     ]
    }
   ],
   "source": [
    "kf = KFold(n_splits=3, shuffle = True, random_state = 0)\n",
    "\n",
    "for train_index, test_index in kf.split(trans_X_tr):\n",
    "    print(trans_X_tr[test_index].shape[0])"
   ]
  },
  {
   "cell_type": "markdown",
   "metadata": {},
   "source": [
    "### ========== Question 1.12 --- [2 marks] ========== \n",
    "Using the cross-validation iterator from the previous question, perform a search for the best value for `C`. \n",
    "\n",
    "We are going to loop over each CV fold, and each value of `C`. The values of `C` to search should be 20 equally-spaced values **in log space** ranging from `1e-5` to `1e5` *(hint: look at the `logspace()` function in numpy)*. \n",
    "\n",
    "Create a 2-dimensional array and, for each cross-validation fold and parameter setting pair, compute and store the classification accuracy score e.g. store the score of fold 0 with parameter setting 1 at score_array[0,1]. As previously, set the `solver` parameter to `lbfgs` and use default settings for the other parameters (except for `C` obviously!).\n",
    "\n",
    "*(hint: you could use two loops in your code; one iterating over CV folds and another one iterating over the values for `C`)*. "
   ]
  },
  {
   "cell_type": "code",
   "execution_count": 117,
   "metadata": {},
   "outputs": [],
   "source": [
    "scores = np.zeros([3, 20])\n",
    "\n",
    "C_range = np.logspace(-5, 5, 20)\n",
    "\n",
    "for i, (train_index, test_index) in enumerate(kf.split(trans_X_tr)):\n",
    "    for j, C in enumerate(C_range, 0):\n",
    "        #print (C)\n",
    "        lr = LogisticRegression(solver=\"lbfgs\", C=C)\n",
    "        lr.fit(trans_X_tr[train_index], y_tr[train_index])\n",
    "        scores[i][j] = lr.score(trans_X_tr[test_index], y_tr[test_index])"
   ]
  },
  {
   "cell_type": "code",
   "execution_count": 118,
   "metadata": {},
   "outputs": [
    {
     "data": {
      "text/plain": [
       "array([[ 0.5730659 ,  0.62893983,  0.66762178,  0.67191977,  0.68767908,\n",
       "         0.69627507,  0.6747851 ,  0.67048711,  0.65329513,  0.65902579,\n",
       "         0.65902579,  0.65329513,  0.64899713,  0.64613181,  0.64613181,\n",
       "         0.64899713,  0.64613181,  0.64613181,  0.64899713,  0.64899713],\n",
       "       [ 0.54584527,  0.63180516,  0.69484241,  0.71919771,  0.72922636,\n",
       "         0.73495702,  0.70200573,  0.6747851 ,  0.65472779,  0.63610315,\n",
       "         0.63180516,  0.63323782,  0.6260745 ,  0.62750716,  0.62750716,\n",
       "         0.6260745 ,  0.6260745 ,  0.6260745 ,  0.62750716,  0.6260745 ],\n",
       "       [ 0.54806313,  0.63558106,  0.64275466,  0.65566714,  0.68005739,\n",
       "         0.70014347,  0.68149211,  0.67001435,  0.66284075,  0.64418938,\n",
       "         0.63271162,  0.62553802,  0.6241033 ,  0.6241033 ,  0.6241033 ,\n",
       "         0.6241033 ,  0.6241033 ,  0.6241033 ,  0.6241033 ,  0.6241033 ]])"
      ]
     },
     "execution_count": 118,
     "metadata": {},
     "output_type": "execute_result"
    }
   ],
   "source": [
    "scores"
   ]
  },
  {
   "cell_type": "markdown",
   "metadata": {},
   "source": [
    "### ========== Question 1.13 --- [1 mark] ========== \n",
    "Plot the mean classification performance (across CV folds) of the logistic regression classifier against the regularisation parameter `C` by using the range from Question 1.12. Use a logarithmic scale for the x-axis and label both axes appropriately. "
   ]
  },
  {
   "cell_type": "code",
   "execution_count": 119,
   "metadata": {},
   "outputs": [
    {
     "data": {
      "image/png": "[encoded data removed]",
      "text/plain": [
       "<matplotlib.figure.Figure at 0x10fb21750>"
      ]
     },
     "metadata": {},
     "output_type": "display_data"
    }
   ],
   "source": [
    "mean_scores = np.mean(scores, axis=0)\n",
    "plt.plot(C_range, mean_scores)\n",
    "plt.xscale('log') \n",
    "plt.xlabel('C')\n",
    "plt.ylabel('Accuracy')\n",
    "_ = plt.title('Mean cross-val accuracy of Logistic Regression')"
   ]
  },
  {
   "cell_type": "markdown",
   "metadata": {},
   "source": [
    "### ========== Question 1.14 --- [2 marks] ==========\n",
    "Display the optimal value for the regularisation parameter `C` determined by the search results from Question 1.12. Similarly to Question 1.13, consider the mean classifiation accuracy across CV folds. By using the optimal value (i.e. the one that yields the highest average classification accuracy) train a new `LogisticRegression` classifier and report the classification accuracy on the validation set. *(Hint: Do not pick the optimal value \"by hand\", instead use an appropriate numpy function).*"
   ]
  },
  {
   "cell_type": "code",
   "execution_count": 120,
   "metadata": {},
   "outputs": [
    {
     "name": "stdout",
     "output_type": "stream",
     "text": [
      "Maximum mean accuracy: 0.710 for the C equal to: 0.004\n",
      "Validation accuracy: 0.696\n",
      "Training accuracy: 0.780\n"
     ]
    }
   ],
   "source": [
    "C_optimal = C_range[np.argmax(mean_scores)]\n",
    "print(\"Maximum mean accuracy: {:.3f} for the C equal to: {:.3f}\".format(np.max(mean_scores), C_optimal))\n",
    "\n",
    "lr = LogisticRegression(solver=\"lbfgs\", C=C_optimal)\n",
    "lr.fit(trans_X_tr, y_tr)\n",
    "print(\"Validation accuracy: {:.3f}\".format(lr.score(trans_X_val, y_val)))\n",
    "print(\"Training accuracy: {:.3f}\".format(lr.score(trans_X_tr, y_tr)))"
   ]
  },
  {
   "cell_type": "markdown",
   "metadata": {},
   "source": [
    "### ========== Question 1.15 --- [1 mark] ========== \n",
    "Scikit-learn offers a [`LogisticRegressionCV`](http://scikit-learn.org/0.17/modules/generated/sklearn.linear_model.LogisticRegressionCV.html) module which implements Logistic Regression with builtin cross-validation to find out the optimal `C` parameter. You can specify the range for the `C` parameter, as well as the cross-validation method you want to use with the `Cs` and `cv` parameters, respectively. Use the `C` range you set up in Question 1.12 and the 3-fold cross-validation iterator from Question 1.11. Once again, train the models by using the `lbfgs` optimisation method and display the optimal value for the parameter `C`. Finally, display the classification accuracy on the validation set. Check your results are consistent with those from Question 1.14!"
   ]
  },
  {
   "cell_type": "code",
   "execution_count": 121,
   "metadata": {},
   "outputs": [
    {
     "name": "stdout",
     "output_type": "stream",
     "text": [
      "The optimal value for parameter C: [ 0.00428133]\n",
      "Validation accuracy: 0.696\n",
      "Training accuracy: 0.780\n"
     ]
    }
   ],
   "source": [
    "lr_cv = LogisticRegressionCV(Cs=C_range, cv=kf, solver='lbfgs', random_state=0)\n",
    "lr_cv.fit(trans_X_tr, y_tr)\n",
    "\n",
    "print(\"The optimal value for parameter C: {}\".format(lr_cv.C_))\n",
    "print(\"Validation accuracy: {:.3f}\".format(lr_cv.score(trans_X_val, y_val)))\n",
    "print(\"Training accuracy: {:.3f}\".format(lr_cv.score(trans_X_tr, y_tr)))"
   ]
  },
  {
   "cell_type": "markdown",
   "metadata": {},
   "source": [
    "### ========== Question 1.16 --- [1 mark] ==========\n",
    "Now, we want to validate the importance of various features for classification. For this purpose, we will use a [`RandomForestClassifier`](http://scikit-learn.org/stable/modules/generated/sklearn.ensemble.RandomForestClassifier.html) (you might want to refer to the labs if you are unsure how we can estimate feature importances with decision tree and random forest models).\n",
    "\n",
    "Initialise a random forest classifier and fit the model by using training data only and 500 trees (i.e. `n_estimators`). Set the `RandomState` equal to 42 to ensure reproducible results. Report the accuracy score on both the training and validation sets."
   ]
  },
  {
   "cell_type": "code",
   "execution_count": 122,
   "metadata": {},
   "outputs": [
    {
     "name": "stdout",
     "output_type": "stream",
     "text": [
      "Validation accuracy: 0.693\n",
      "Training accuracy: 1.000\n"
     ]
    }
   ],
   "source": [
    "clf = RandomForestClassifier(n_estimators=500, random_state=42)\n",
    "clf.fit(trans_X_tr, y_tr)\n",
    "print(\"Validation accuracy: {:.3f}\".format(clf.score(trans_X_val, y_val)))\n",
    "print(\"Training accuracy: {:.3f}\".format(clf.score(trans_X_tr, y_tr)))"
   ]
  },
  {
   "cell_type": "markdown",
   "metadata": {},
   "source": [
    "### ========== Question 1.17 --- [2 marks] ==========\n",
    "Comment on the results above. Do you find the discrepancy between training and validation accuracies surprising?"
   ]
  },
  {
   "cell_type": "markdown",
   "metadata": {},
   "source": [
    "The model has overfitted - it fits the training data perfectly but the validation accuracy is significantly lower than the training accuracy, and lower than for the tuned logistic regression. We only have around 2000 datapoints in training - and 500 trees x no max depth => loots of parameters to fit. The number of estimators is the same as the number of features and they can grow to full depth so they have learned to separate the training data perfectly. "
   ]
  },
  {
   "cell_type": "markdown",
   "metadata": {},
   "source": [
    "### ========== Question 1.18 --- [2 marks] ==========\n",
    "By using the random forest model from the previous question order the features by descending importance and display the names of the 50 most important features."
   ]
  },
  {
   "cell_type": "code",
   "execution_count": 123,
   "metadata": {},
   "outputs": [
    {
     "name": "stdout",
     "output_type": "stream",
     "text": [
      "Feature dim21 with the importance of: 0.008\n",
      "Feature dim51 with the importance of: 0.008\n",
      "Feature dim360 with the importance of: 0.007\n",
      "Feature dim4 with the importance of: 0.006\n",
      "Feature dim479 with the importance of: 0.006\n",
      "Feature dim76 with the importance of: 0.006\n",
      "Feature dim283 with the importance of: 0.006\n",
      "Feature dim461 with the importance of: 0.006\n",
      "Feature dim343 with the importance of: 0.005\n",
      "Feature dim398 with the importance of: 0.005\n",
      "Feature dim348 with the importance of: 0.005\n",
      "Feature dim74 with the importance of: 0.005\n",
      "Feature dim485 with the importance of: 0.005\n",
      "Feature dim356 with the importance of: 0.005\n",
      "Feature dim330 with the importance of: 0.005\n",
      "Feature dim217 with the importance of: 0.005\n",
      "Feature dim263 with the importance of: 0.005\n",
      "Feature dim222 with the importance of: 0.004\n",
      "Feature dim134 with the importance of: 0.004\n",
      "Feature dim500 with the importance of: 0.004\n",
      "Feature dim274 with the importance of: 0.004\n",
      "Feature dim254 with the importance of: 0.004\n",
      "Feature dim206 with the importance of: 0.004\n",
      "Feature dim423 with the importance of: 0.004\n",
      "Feature dim347 with the importance of: 0.004\n",
      "Feature dim17 with the importance of: 0.004\n",
      "Feature dim326 with the importance of: 0.004\n",
      "Feature dim90 with the importance of: 0.004\n",
      "Feature dim92 with the importance of: 0.004\n",
      "Feature dim329 with the importance of: 0.004\n",
      "Feature dim214 with the importance of: 0.004\n",
      "Feature dim322 with the importance of: 0.004\n",
      "Feature dim289 with the importance of: 0.004\n",
      "Feature dim54 with the importance of: 0.004\n",
      "Feature dim440 with the importance of: 0.004\n",
      "Feature dim427 with the importance of: 0.004\n",
      "Feature dim73 with the importance of: 0.003\n",
      "Feature dim35 with the importance of: 0.003\n",
      "Feature dim77 with the importance of: 0.003\n",
      "Feature dim312 with the importance of: 0.003\n",
      "Feature dim315 with the importance of: 0.003\n",
      "Feature dim96 with the importance of: 0.003\n",
      "Feature dim288 with the importance of: 0.003\n",
      "Feature dim483 with the importance of: 0.003\n",
      "Feature dim299 with the importance of: 0.003\n",
      "Feature dim48 with the importance of: 0.003\n",
      "Feature dim442 with the importance of: 0.003\n",
      "Feature dim201 with the importance of: 0.003\n",
      "Feature dim344 with the importance of: 0.003\n",
      "Feature dim294 with the importance of: 0.003\n"
     ]
    }
   ],
   "source": [
    "feature_importance = clf.feature_importances_\n",
    "for i in feature_importance.argsort()[-50:][::-1]:\n",
    "    print('Feature {} with the importance of: {:.3f}'.format(X_tr.columns[i], feature_importance[i]))"
   ]
  },
  {
   "cell_type": "markdown",
   "metadata": {},
   "source": [
    "### ========== Question 1.19 --- [3 marks] ==========\n",
    "Next, we would like to test the performance of support vector machines. Train three support vector classifiers with the following kernels: linear, radial basis function, and polynomial. Report the classification accuracy of each of the three classifiers on both the training and validation sets."
   ]
  },
  {
   "cell_type": "code",
   "execution_count": 124,
   "metadata": {},
   "outputs": [
    {
     "name": "stdout",
     "output_type": "stream",
     "text": [
      "Training accuracy of the model with linear kernel: 0.807\n",
      "Validation accuracy of the model with linear kernel: 0.639\n",
      "Training accuracy of the model with rbf kernel: 0.911\n",
      "Validation accuracy of the model with rbf kernel: 0.730\n",
      "Training accuracy of the model with polynomial kernel: 0.991\n",
      "Validation accuracy of the model with polynomial kernel: 0.702\n"
     ]
    }
   ],
   "source": [
    "def report(model, kernel='linear'):\n",
    "    print(\"Training accuracy of the model with {} kernel: {:.3f}\".format(kernel, model.score(trans_X_tr, y_tr)))\n",
    "    print(\"Validation accuracy of the model with {} kernel: {:.3f}\".format(kernel, model.score(trans_X_val, y_val)))\n",
    "    \n",
    "\n",
    "svc_linear = LinearSVC()\n",
    "svc_rbf = SVC(kernel='rbf')\n",
    "svc_poly = SVC(kernel='poly')\n",
    "\n",
    "svc_linear.fit(trans_X_tr, y_tr)\n",
    "report(svc_linear)\n",
    "svc_rbf.fit(trans_X_tr, y_tr)\n",
    "report(svc_rbf, kernel = 'rbf')\n",
    "svc_poly.fit(trans_X_tr, y_tr)\n",
    "report(svc_poly, kernel = 'polynomial')"
   ]
  },
  {
   "cell_type": "markdown",
   "metadata": {},
   "source": [
    "### ========== Question 1.20 --- [3 marks] ==========\n",
    "At this point, we would like to get an idea of what kind of decision boundaries we can get with the three types of SVM kernels we introduced in the previous question. For visualisation, however, we can only make use of 2D input data. For this purpose, we select to use the 21st and 76th columns of our training features (*hint: remember that Python uses 0-based indexing*). \n",
    "\n",
    "Execute the cell below to define a useful function which we will be using to plot the decision boundaries *(it is also not a bad idea to try to understand what this functions does)*. \n",
    "\n",
    "Then train three distinct SVM classifiers by using the 2D input data mentioned above and default parameters:\n",
    "* a linear SVC\n",
    "* an RBF SVC \n",
    "* a polynomial SVC\n",
    "\n",
    "Finally, create a list containing the three classifiers you have just trained. Use this list as an input to the provided function along with the used training features and observe the outcome. You can use the additional `title` parameter to set the titles in the subplots. Comment on the shape of the boundaries and what this means for classification accuracy in 1-2 sentences.\n",
    "\n",
    "*(Acknowledgement: this Question has been heavily based on [this example](http://scikit-learn.org/0.17/auto_examples/svm/plot_iris.html) from scikit-learn's documentation.)*"
   ]
  },
  {
   "cell_type": "code",
   "execution_count": 125,
   "metadata": {
    "collapsed": true
   },
   "outputs": [],
   "source": [
    "def show_svc_decision_boundaries(clfs, X, title=None):\n",
    "    \"\"\"Plots decision boundaries for classifiers with 2D inputs.\n",
    "    \n",
    "    Parameters\n",
    "    ----------\n",
    "    clf : list\n",
    "        Classifiers for which decision boundaries will be displayed.\n",
    "    X : array\n",
    "        Input features used to train the classifiers.\n",
    "    title : list, optional\n",
    "        Titles for classifiers.\n",
    "    \n",
    "    \"\"\"\n",
    "    \n",
    "    assert X.shape[1] == 2 # Input should be 2D\n",
    "    if title is not None:\n",
    "        assert len(clfs) == len(title)\n",
    "    \n",
    "    h = .04 # step size in the mesh\n",
    "    x_min, x_max = X[:, 0].min() - 1, X[:, 0].max() + 1\n",
    "    y_min, y_max = X[:, 1].min() - 1, X[:, 1].max() + 1\n",
    "    xx, yy = np.meshgrid(np.arange(x_min, x_max, h),\n",
    "                         np.arange(y_min, y_max, h))\n",
    "    plt.figure(figsize=(15,5))\n",
    "    for i, clf in enumerate(clfs):\n",
    "        plt.subplot(1, len(clfs), i + 1)\n",
    "        plt.subplots_adjust(wspace=0.4, hspace=0.4)\n",
    "        Z = clf.predict(np.c_[xx.ravel(), yy.ravel()])\n",
    "        Z = Z.reshape(xx.shape)\n",
    "        plt.contourf(xx, yy, Z, cmap=plt.cm.Paired, alpha=0.8)\n",
    "        # Training points\n",
    "        plt.scatter(X[:, 0], X[:, 1], c=y_tr, cmap=plt.cm.Paired)\n",
    "        plt.xlabel('Feature 1')\n",
    "        plt.ylabel('Feature 2')\n",
    "        plt.xlim(xx.min(), xx.max())\n",
    "        plt.ylim(yy.min(), yy.max())\n",
    "        plt.xticks(())\n",
    "        plt.yticks(())\n",
    "        if title is not None:\n",
    "            plt.title(title[i])"
   ]
  },
  {
   "cell_type": "code",
   "execution_count": 126,
   "metadata": {},
   "outputs": [
    {
     "data": {
      "image/png": "[encoded data removed]",
      "text/plain": [
       "<matplotlib.figure.Figure at 0x1103ffb90>"
      ]
     },
     "metadata": {},
     "output_type": "display_data"
    }
   ],
   "source": [
    "X_2d = trans_X_tr[:, [20, 75]]\n",
    "\n",
    "svc_linear = LinearSVC()\n",
    "svc_rbf = SVC(kernel='rbf')\n",
    "svc_poly = SVC(kernel='poly')\n",
    "\n",
    "\n",
    "svc_linear.fit(X_2d, y_tr)\n",
    "svc_rbf.fit(X_2d, y_tr)\n",
    "svc_poly.fit(X_2d, y_tr)\n",
    "\n",
    "\n",
    "svms = [svc_linear, svc_rbf, svc_poly]\n",
    "\n",
    "show_svc_decision_boundaries(svms, X_2d, ['linear', 'rbf', 'poly'])"
   ]
  },
  {
   "cell_type": "markdown",
   "metadata": {},
   "source": [
    "The input data clearly isn't linearly separable. Rbf and polynomial kernels produce more flexible decision boundaries but they won't give high accuracy either. These two features aren't enough to draw accurate decision boundaries. "
   ]
  },
  {
   "cell_type": "markdown",
   "metadata": {},
   "source": [
    "### ========== Question 1.21 --- [5 marks] ==========\n",
    "So far we have used default parameters for training the SVM classifiers. Now we want to tune the parameters by using cross-validation. \n",
    "\n",
    "By using the `K-fold` iterator from Question 1.11 and training data only, estimate the classification accuracy of an SVM classifier with RBF kernel, while you vary the penalty parameter `C` in a logarithmic range `np.logspace(-2, 3, 10)`. Set the kernel coefficient parameter `gamma` to `auto` for this question. \n",
    "\n",
    "Plot the mean cross-validated classification accuracy against the regularisation parameter `C` by using a log-scale for the x-axis. Display the highest obtained mean accuracy score and the value of `C` which yielded it. Label axes appropriately. \n",
    "\n",
    "Finally, train a classifier by using the optimal value for this parameter (without using cross-validation at this stage) and report the classification accuracy on the training and validation sets. "
   ]
  },
  {
   "cell_type": "code",
   "execution_count": 127,
   "metadata": {
    "collapsed": true
   },
   "outputs": [],
   "source": [
    "scores = np.zeros([3, 10])\n",
    "\n",
    "C_range = np.logspace(-2, 3, 10)\n",
    "\n",
    "for i, (train_index, test_index) in enumerate(kf.split(trans_X_tr), 0):\n",
    "    for j, C in enumerate(C_range, 0):\n",
    "        #print (C)\n",
    "        svc_rbf = SVC(kernel='rbf', C=C)\n",
    "        svc_rbf.fit(trans_X_tr[train_index], y_tr[train_index])\n",
    "        scores[i][j] = svc_rbf.score(trans_X_tr[test_index], y_tr[test_index])"
   ]
  },
  {
   "cell_type": "code",
   "execution_count": 128,
   "metadata": {},
   "outputs": [
    {
     "data": {
      "text/plain": [
       "array([[ 0.56017192,  0.58309456,  0.67191977,  0.70200573,  0.71346705,\n",
       "         0.70916905,  0.70916905,  0.70916905,  0.70916905,  0.70916905],\n",
       "       [ 0.54584527,  0.54584527,  0.69770774,  0.73782235,  0.73925501,\n",
       "         0.71346705,  0.71346705,  0.71346705,  0.71346705,  0.71346705],\n",
       "       [ 0.54662841,  0.54806313,  0.68579627,  0.69727403,  0.69296987,\n",
       "         0.68292683,  0.68292683,  0.68292683,  0.68292683,  0.68292683]])"
      ]
     },
     "execution_count": 128,
     "metadata": {},
     "output_type": "execute_result"
    }
   ],
   "source": [
    "scores"
   ]
  },
  {
   "cell_type": "code",
   "execution_count": 129,
   "metadata": {},
   "outputs": [
    {
     "data": {
      "image/png": "[encoded data removed]",
      "text/plain": [
       "<matplotlib.figure.Figure at 0x1123230d0>"
      ]
     },
     "metadata": {},
     "output_type": "display_data"
    }
   ],
   "source": [
    "mean_scores = np.mean(scores, axis=0)\n",
    "plt.plot(C_range, mean_scores)\n",
    "plt.xscale('log') #?\n",
    "plt.xlabel('C value')\n",
    "plt.ylabel('Mean cross-val accuracy')\n",
    "_ = plt.title('Mean cross-val accuracy of SVM-RBF')"
   ]
  },
  {
   "cell_type": "code",
   "execution_count": 130,
   "metadata": {},
   "outputs": [
    {
     "name": "stdout",
     "output_type": "stream",
     "text": [
      "Maximum mean accuracy: 0.715 for the C equal to: 1.668\n",
      "Validation accuracy: 0.728\n",
      "Training accuracy: 0.975\n"
     ]
    }
   ],
   "source": [
    "C_optimal = C_range[np.argmax(mean_scores)]\n",
    "print(\"Maximum mean accuracy: {:.3f} for the C equal to: {:.3f}\".format(np.max(mean_scores), C_optimal))\n",
    "\n",
    "svc_rbf = SVC(kernel='rbf', C=C_optimal)\n",
    "svc_rbf.fit(trans_X_tr, y_tr)\n",
    "\n",
    "print(\"Validation accuracy: {:.3f}\".format(svc_rbf.score(trans_X_val, y_val)))\n",
    "print(\"Training accuracy: {:.3f}\".format(svc_rbf.score(trans_X_tr, y_tr)))"
   ]
  },
  {
   "cell_type": "markdown",
   "metadata": {},
   "source": [
    "### ========== Question 1.22 --- [5 marks] ==========\n",
    "Now we turn to the kernel coefficient `gamma` parameter. By using the same procedure as in the previous question, estimate the classification accuracy of an SVM classifier with RBF kernel while you vary the `gamma` parameter in a logarithmic range `logspace(-5, 0, 10)`. Fix the penalty parameter `C=1.0`.\n",
    "\n",
    "Plot the mean cross-validated classification accuracy against the parameter `gamma` by using a log-scale for the x-axis. Display the highest obtained mean accuracy score and the value of `gamma` which yielded it.  Label axes appropriately.\n",
    "\n",
    "Finally, train a classifier by using the optimal value for this parameter (without using cross-validation at this stage) and report the classification accuracy on the training and validation sets. "
   ]
  },
  {
   "cell_type": "code",
   "execution_count": 131,
   "metadata": {
    "collapsed": true
   },
   "outputs": [],
   "source": [
    "scores = np.zeros([3, 10])\n",
    "\n",
    "gamma_range = np.logspace(-5, 0, 10)\n",
    "\n",
    "for i, (train_index, test_index) in enumerate(kf.split(trans_X_tr), 0):\n",
    "    for j, gamma in enumerate(gamma_range, 0):\n",
    "        svc_rbf = SVC(kernel='rbf', C=1.0, gamma=gamma)\n",
    "        svc_rbf.fit(trans_X_tr[train_index], y_tr[train_index])\n",
    "        scores[i][j] = svc_rbf.score(trans_X_tr[test_index], y_tr[test_index])"
   ]
  },
  {
   "cell_type": "code",
   "execution_count": 132,
   "metadata": {},
   "outputs": [
    {
     "data": {
      "text/plain": [
       "array([[ 0.56160458,  0.66189112,  0.67191977,  0.70487106,  0.71346705,\n",
       "         0.71060172,  0.56017192,  0.56017192,  0.56017192,  0.56017192],\n",
       "       [ 0.54584527,  0.65902579,  0.71060172,  0.74498567,  0.74212034,\n",
       "         0.7234957 ,  0.54584527,  0.54584527,  0.54584527,  0.54584527],\n",
       "       [ 0.54662841,  0.64418938,  0.65710187,  0.68149211,  0.69296987,\n",
       "         0.68292683,  0.54662841,  0.54662841,  0.54662841,  0.54662841]])"
      ]
     },
     "execution_count": 132,
     "metadata": {},
     "output_type": "execute_result"
    }
   ],
   "source": [
    "scores"
   ]
  },
  {
   "cell_type": "code",
   "execution_count": 133,
   "metadata": {},
   "outputs": [
    {
     "data": {
      "image/png": "[encoded data removed]",
      "text/plain": [
       "<matplotlib.figure.Figure at 0x112374990>"
      ]
     },
     "metadata": {},
     "output_type": "display_data"
    }
   ],
   "source": [
    "mean_scores = np.mean(scores, axis=0)\n",
    "plt.plot(C_range, mean_scores)\n",
    "plt.xscale('log') \n",
    "plt.xlabel('gamma value')\n",
    "plt.ylabel('Mean cross-val accuracy')\n",
    "_ = plt.title('Mean cross-val accuracy for SVM-RBF per gamma value')"
   ]
  },
  {
   "cell_type": "code",
   "execution_count": 134,
   "metadata": {},
   "outputs": [
    {
     "name": "stdout",
     "output_type": "stream",
     "text": [
      "Maximum mean accuracy: 0.716 for the gamma equal to: 0.002\n",
      "Validation accuracy: 0.727\n",
      "Training accuracy: 0.891\n"
     ]
    }
   ],
   "source": [
    "gamma_optimal = gamma_range[np.argmax(mean_scores)]\n",
    "print(\"Maximum mean accuracy: {:.3f} for the gamma equal to: {:.3f}\".format(np.max(mean_scores), gamma_optimal))\n",
    "\n",
    "svc_rbf = SVC(kernel='rbf', C=1.0, gamma=gamma_optimal)\n",
    "svc_rbf.fit(trans_X_tr, y_tr)\n",
    "\n",
    "print(\"Validation accuracy: {:.3f}\".format(svc_rbf.score(trans_X_val, y_val)))\n",
    "print(\"Training accuracy: {:.3f}\".format(svc_rbf.score(trans_X_tr, y_tr)))"
   ]
  },
  {
   "cell_type": "markdown",
   "metadata": {},
   "source": [
    "### ========== Question 1.23 --- [7 marks] ==========\n",
    "Now we wish to tune both the `C` and `gamma` parameters simultaneously. To save computational time, we will now constrain the parameter search space. Define a `4 X 4` grid for the two parameters, as follows:\n",
    "* `C`: `np.logspace(-2, 1, 4)`\n",
    "* `gamma`: `np.logspace(-4, -1, 4)`\n",
    "\n",
    "Estimate the mean cross-validated classification accuracy by using training data only and all possible configurations for the two parameters. \n",
    "\n",
    "Use a [heatmap](https://seaborn.github.io/generated/seaborn.heatmap.html?highlight=heatmap#seaborn.heatmap) to visualise the mean cross-validated classification accuracy for all `C`-`gamma` pairs. Label axes appropriately and display the values for `C` and `gamma` for the best performing configuration. \n",
    "\n",
    "Finally, by using the optimal configuration, train a classifier (without using cross-validation) and report the classification accuracy on the training and validation sets."
   ]
  },
  {
   "cell_type": "code",
   "execution_count": 135,
   "metadata": {
    "collapsed": true
   },
   "outputs": [],
   "source": [
    "scores = np.zeros([3, 4, 4])\n",
    "\n",
    "C_range = np.logspace(-2, 1, 4)\n",
    "gamma_range = np.logspace(-4, -1, 4)\n",
    "\n",
    "\n",
    "for i, (train_index, test_index) in enumerate(kf.split(trans_X_tr), 0):\n",
    "    for j, C in enumerate(C_range, 0):\n",
    "        for k, gamma in enumerate(gamma_range, 0):\n",
    "            svc_rbf = SVC(kernel='rbf', C=C, gamma=gamma)\n",
    "            svc_rbf.fit(trans_X_tr[train_index], y_tr[train_index])\n",
    "            scores[i][j][k] = svc_rbf.score(trans_X_tr[test_index], y_tr[test_index])"
   ]
  },
  {
   "cell_type": "code",
   "execution_count": 136,
   "metadata": {},
   "outputs": [
    {
     "data": {
      "text/plain": [
       "array([[[ 0.56017192,  0.56017192,  0.56017192,  0.56017192],\n",
       "        [ 0.56017192,  0.67621777,  0.56017192,  0.56017192],\n",
       "        [ 0.67335244,  0.70773639,  0.65759312,  0.56017192],\n",
       "        [ 0.6991404 ,  0.69197708,  0.67048711,  0.56017192]],\n",
       "\n",
       "       [[ 0.54584527,  0.54584527,  0.54584527,  0.54584527],\n",
       "        [ 0.54584527,  0.69627507,  0.54584527,  0.54584527],\n",
       "        [ 0.70773639,  0.74212034,  0.64899713,  0.54584527],\n",
       "        [ 0.73782235,  0.6991404 ,  0.67908309,  0.54584527]],\n",
       "\n",
       "       [[ 0.54662841,  0.54662841,  0.54662841,  0.54662841],\n",
       "        [ 0.54662841,  0.67718795,  0.54662841,  0.54662841],\n",
       "        [ 0.66284075,  0.68723099,  0.6312769 ,  0.54662841],\n",
       "        [ 0.69296987,  0.68149211,  0.64131994,  0.54662841]]])"
      ]
     },
     "execution_count": 136,
     "metadata": {},
     "output_type": "execute_result"
    }
   ],
   "source": [
    "scores"
   ]
  },
  {
   "cell_type": "code",
   "execution_count": 137,
   "metadata": {},
   "outputs": [
    {
     "data": {
      "text/plain": [
       "array([[ 0.55088187,  0.55088187,  0.55088187,  0.55088187],\n",
       "       [ 0.55088187,  0.68322693,  0.55088187,  0.55088187],\n",
       "       [ 0.68130986,  0.71236257,  0.64595572,  0.55088187],\n",
       "       [ 0.70997754,  0.69086986,  0.66363005,  0.55088187]])"
      ]
     },
     "execution_count": 137,
     "metadata": {},
     "output_type": "execute_result"
    }
   ],
   "source": [
    "mean_scores = np.mean(scores, axis=0)\n",
    "mean_scores"
   ]
  },
  {
   "cell_type": "code",
   "execution_count": 138,
   "metadata": {},
   "outputs": [
    {
     "data": {
      "image/png": "[encoded data removed]",
      "text/plain": [
       "<matplotlib.figure.Figure at 0x10fca0e90>"
      ]
     },
     "metadata": {},
     "output_type": "display_data"
    }
   ],
   "source": [
    "sns.heatmap(mean_scores, cmap=\"YlGnBu\", linewidths=.5)\n",
    "plt.title(\"Accuracy depending on the choice of C and gamma parameters\")\n",
    "plt.ylabel(\"C\")\n",
    "_ = plt.xlabel(\"gamma\") "
   ]
  },
  {
   "cell_type": "code",
   "execution_count": 139,
   "metadata": {},
   "outputs": [
    {
     "name": "stdout",
     "output_type": "stream",
     "text": [
      "Maximum mean accuracy: 0.712 for the C equal to: 1.000 and gamma equal to: 0.001\n",
      "Validation accuracy: 0.721\n",
      "Training accuracy: 0.835\n"
     ]
    }
   ],
   "source": [
    "C_optimal_ind = np.where(mean_scores == mean_scores.max())[0][0]\n",
    "C_optimal = C_range[C_optimal_ind]\n",
    "gamma_optimal_ind = np.where(mean_scores == mean_scores.max())[1][0]\n",
    "gamma_optimal = gamma_range[gamma_optimal_ind]\n",
    "\n",
    "\n",
    "print(\"Maximum mean accuracy: {:.3f} for the C equal to: {:.3f} and gamma equal to: {:.3f}\".format(np.max(mean_scores), C_optimal, gamma_optimal))\n",
    "\n",
    "\n",
    "svc_rbf = SVC(kernel='rbf', C=C_optimal, gamma=gamma_optimal)\n",
    "svc_rbf.fit(trans_X_tr, y_tr)\n",
    "\n",
    "print(\"Validation accuracy: {:.3f}\".format(svc_rbf.score(trans_X_val, y_val)))\n",
    "print(\"Training accuracy: {:.3f}\".format(svc_rbf.score(trans_X_tr, y_tr)))"
   ]
  },
  {
   "cell_type": "markdown",
   "metadata": {},
   "source": [
    "### ========== Question 1.24 --- [3 marks] ==========\n",
    "Is the classification accuracy on the validation set higher than in previous questions (1.22-1.23)? If not, can you explain why? Can you think of a way of further improving the performance of the classifier? You don't need to implement your suggestion at this stage. Would there be any associated problems with your suggested approach? "
   ]
  },
  {
   "cell_type": "markdown",
   "metadata": {},
   "source": [
    "The classification accuracy on the the validation set is lower than in 1.21 (C optimization) and the same as in 1.22 (gamma optimization), possibly because we explored a smaller range of C and gamma values. The improvement would be to perform a grid search on a larger range, eg by using the grid from \"A Practial Guide to Support Vector Classification\". This comes at the computational cost. "
   ]
  },
  {
   "cell_type": "markdown",
   "metadata": {},
   "source": [
    "### ========== Question 1.25 --- [5 marks] ==========\n",
    "Now we want to evaluate the performance of an SVM classifier with polynomial kernel. Once again, we will tune the `degree` parameter by using cross-validation (similarly to what we did in Questions 1.21 and 1.22).\n",
    "\n",
    "By using the `K-fold` iterator from Question 1.11 and training data only, estimate the classification accuracy of polynomial SVM classifier, while you vary the `degree` parameter in the range `np.arange(1,8)`. \n",
    "\n",
    "Plot the mean cross-validated classification accuracy against the polynomial degree. Display the highest obtained mean accuracy score and the value of the `degree` parameter which yielded it. Label axes appropriately. \n",
    "\n",
    "Finally, train a classifier by using the optimal value for this parameter (without using cross-validation at this stage) and report the classification accuracy on the training and validation sets. "
   ]
  },
  {
   "cell_type": "code",
   "execution_count": 140,
   "metadata": {
    "collapsed": true
   },
   "outputs": [],
   "source": [
    "scores = np.zeros([3, 7])\n",
    "\n",
    "degree_range = np.arange(1,8)\n",
    "\n",
    "for i, (train_index, test_index) in enumerate(kf.split(trans_X_tr), 0):\n",
    "    for j, degree in enumerate(degree_range, 0):\n",
    "        svc_poly = SVC(kernel='poly', degree=degree)\n",
    "        svc_poly.fit(trans_X_tr[train_index], y_tr[train_index])\n",
    "        scores[i][j] = svc_poly.score(trans_X_tr[test_index], y_tr[test_index])"
   ]
  },
  {
   "cell_type": "code",
   "execution_count": 141,
   "metadata": {},
   "outputs": [
    {
     "data": {
      "text/plain": [
       "array([[ 0.67908309,  0.6747851 ,  0.65472779,  0.61318052,  0.63180516,\n",
       "         0.58309456,  0.55730659],\n",
       "       [ 0.74498567,  0.67908309,  0.71060172,  0.60888252,  0.58309456,\n",
       "         0.56017192,  0.55444126],\n",
       "       [ 0.68436155,  0.64131994,  0.68723099,  0.66140603,  0.60114778,\n",
       "         0.57962697,  0.57245337]])"
      ]
     },
     "execution_count": 141,
     "metadata": {},
     "output_type": "execute_result"
    }
   ],
   "source": [
    "scores"
   ]
  },
  {
   "cell_type": "code",
   "execution_count": 142,
   "metadata": {},
   "outputs": [
    {
     "data": {
      "image/png": "[encoded data removed]",
      "text/plain": [
       "<matplotlib.figure.Figure at 0x10ff7af90>"
      ]
     },
     "metadata": {},
     "output_type": "display_data"
    }
   ],
   "source": [
    "mean_scores = np.mean(scores, axis=0)\n",
    "plt.plot(degree_range, mean_scores)\n",
    "plt.title('Mean cross-val accuracy depending on the degree in a polynomial svm')\n",
    "plt.xlabel('degree')\n",
    "_ = plt.ylabel('accuracy')"
   ]
  },
  {
   "cell_type": "code",
   "execution_count": 143,
   "metadata": {},
   "outputs": [
    {
     "name": "stdout",
     "output_type": "stream",
     "text": [
      "Maximum mean accuracy: 0.703 for the degree equal to: 1\n",
      "Validation accuracy: 0.689\n",
      "Training accuracy: 0.784\n"
     ]
    }
   ],
   "source": [
    "degree_optimal = np.argmax(mean_scores) + 1\n",
    "print(\"Maximum mean accuracy: {:.3f} for the degree equal to: {}\".format(np.max(mean_scores), degree_optimal))\n",
    "\n",
    "svc_poly = SVC(kernel='poly', degree=degree_optimal)\n",
    "svc_poly.fit(trans_X_tr, y_tr)\n",
    "\n",
    "print(\"Validation accuracy: {:.3f}\".format(svc_poly.score(trans_X_val, y_val)))\n",
    "print(\"Training accuracy: {:.3f}\".format(svc_poly.score(trans_X_tr, y_tr)))"
   ]
  },
  {
   "cell_type": "markdown",
   "metadata": {},
   "source": [
    "### ========== Question 1.26 --- [4 marks] ==========\n",
    "\n",
    "You might have noticted that so far, we have used cross-validation for optimising the various tuning parameters (e.g. regularisation parameter in logistic regression, SVM kernel parameters) rather than hold-out validation, although we did have access to a validation set. Why do you think this is a good/bad idea? Give one advantage and one disadvantage of the two different approaches. Which one would you trust more in practice?"
   ]
  },
  {
   "cell_type": "markdown",
   "metadata": {},
   "source": [
    "Cross-validation reduces the risk of getting an unusual (biased) testing set. Hold-out validation is a less computationally expensive (but also less accurate in minimizing generalization error) aproximation of k-fold. The main goal is to generalize well for the unseen data so I would choose cross-validation even though it takes more time."
   ]
  },
  {
   "cell_type": "markdown",
   "metadata": {},
   "source": [
    "### ========== Question 1.27 --- [6 marks] ==========\n",
    "\n",
    "Reload the full training and validation data that contain all indicator variables for all object categories. Remove the `imgId` attribute but keep all of the class indicator variables in the dataset this time. Your training features should include all attributes except `is_person` which should be your target variable. \n",
    "\n",
    "Once again, use a [StandardScaler](http://scikit-learn.org/0.17/modules/generated/sklearn.preprocessing.StandardScaler.html) to standardise your training and validation features. Then train a Random Forest Classifier by using the entropy `criterion`, 500 `n_estimators`, and also set the `random_state` to 31. Report the classification accuracy on the training and validation sets.\n",
    "\n",
    "Similarly to what we did in Question 1.18, order the features by decreasing importance and display the 50 most important features. \n",
    "\n",
    "Finally, answer the following questions:\n",
    "* What do you notice by looking at the list of the best 50 features?\n",
    "* How does the performance differ with respect to the case when the additional class indicator variables are not present (Question 1.16)? Relate your observations to the observed feature ranking.\n",
    "* Would it be easy to make use of the results in practice? Briey explain your reasoning.\n",
    "\n",
    "*(Hint: you might want to look at some of the [images](http://www.inf.ed.ac.uk/teaching/courses/iaml/2014/assts/asst3/images.html) to justify your explanations.)*"
   ]
  },
  {
   "cell_type": "code",
   "execution_count": 144,
   "metadata": {
    "collapsed": true
   },
   "outputs": [],
   "source": [
    "train_A = pd.read_csv(data_path + '/train_images_partA.csv')\n",
    "valid_A = pd.read_csv(data_path + '/valid_images_partA.csv')\n",
    "\n",
    "X_tr = train_A.drop(['imgId', 'is_person'], axis=1)\n",
    "y_tr = train_A['is_person']\n",
    "\n",
    "X_val = valid_A.drop(['imgId', 'is_person'], axis=1)\n",
    "y_val = valid_A['is_person']"
   ]
  },
  {
   "cell_type": "code",
   "execution_count": 145,
   "metadata": {},
   "outputs": [
    {
     "data": {
      "text/html": [
       "<div>\n",
       "<style>\n",
       "    .dataframe thead tr:only-child th {\n",
       "        text-align: right;\n",
       "    }\n",
       "\n",
       "    .dataframe thead th {\n",
       "        text-align: left;\n",
       "    }\n",
       "\n",
       "    .dataframe tbody tr th {\n",
       "        vertical-align: top;\n",
       "    }\n",
       "</style>\n",
       "<table border=\"1\" class=\"dataframe\">\n",
       "  <thead>\n",
       "    <tr style=\"text-align: right;\">\n",
       "      <th></th>\n",
       "      <th>is_aeroplane</th>\n",
       "      <th>is_bicycle</th>\n",
       "      <th>is_bird</th>\n",
       "      <th>is_boat</th>\n",
       "      <th>is_bottle</th>\n",
       "      <th>is_bus</th>\n",
       "      <th>is_car</th>\n",
       "      <th>is_cat</th>\n",
       "      <th>is_chair</th>\n",
       "      <th>is_cow</th>\n",
       "      <th>is_diningtable</th>\n",
       "      <th>is_dog</th>\n",
       "      <th>is_horse</th>\n",
       "      <th>is_motorbike</th>\n",
       "      <th>is_pottedplant</th>\n",
       "      <th>is_sheep</th>\n",
       "      <th>is_sofa</th>\n",
       "      <th>is_tvmonitor</th>\n",
       "    </tr>\n",
       "  </thead>\n",
       "  <tbody>\n",
       "    <tr>\n",
       "      <th>0</th>\n",
       "      <td>0</td>\n",
       "      <td>0</td>\n",
       "      <td>0</td>\n",
       "      <td>0</td>\n",
       "      <td>0</td>\n",
       "      <td>0</td>\n",
       "      <td>0</td>\n",
       "      <td>0</td>\n",
       "      <td>0</td>\n",
       "      <td>0</td>\n",
       "      <td>0</td>\n",
       "      <td>0</td>\n",
       "      <td>1</td>\n",
       "      <td>0</td>\n",
       "      <td>0</td>\n",
       "      <td>0</td>\n",
       "      <td>0</td>\n",
       "      <td>0</td>\n",
       "    </tr>\n",
       "    <tr>\n",
       "      <th>1</th>\n",
       "      <td>0</td>\n",
       "      <td>0</td>\n",
       "      <td>0</td>\n",
       "      <td>0</td>\n",
       "      <td>1</td>\n",
       "      <td>0</td>\n",
       "      <td>0</td>\n",
       "      <td>0</td>\n",
       "      <td>0</td>\n",
       "      <td>0</td>\n",
       "      <td>0</td>\n",
       "      <td>0</td>\n",
       "      <td>0</td>\n",
       "      <td>0</td>\n",
       "      <td>0</td>\n",
       "      <td>0</td>\n",
       "      <td>0</td>\n",
       "      <td>0</td>\n",
       "    </tr>\n",
       "    <tr>\n",
       "      <th>2</th>\n",
       "      <td>0</td>\n",
       "      <td>0</td>\n",
       "      <td>0</td>\n",
       "      <td>0</td>\n",
       "      <td>0</td>\n",
       "      <td>0</td>\n",
       "      <td>0</td>\n",
       "      <td>0</td>\n",
       "      <td>0</td>\n",
       "      <td>0</td>\n",
       "      <td>0</td>\n",
       "      <td>1</td>\n",
       "      <td>0</td>\n",
       "      <td>0</td>\n",
       "      <td>0</td>\n",
       "      <td>0</td>\n",
       "      <td>0</td>\n",
       "      <td>0</td>\n",
       "    </tr>\n",
       "    <tr>\n",
       "      <th>3</th>\n",
       "      <td>0</td>\n",
       "      <td>0</td>\n",
       "      <td>0</td>\n",
       "      <td>0</td>\n",
       "      <td>1</td>\n",
       "      <td>0</td>\n",
       "      <td>0</td>\n",
       "      <td>0</td>\n",
       "      <td>0</td>\n",
       "      <td>0</td>\n",
       "      <td>0</td>\n",
       "      <td>0</td>\n",
       "      <td>0</td>\n",
       "      <td>0</td>\n",
       "      <td>0</td>\n",
       "      <td>0</td>\n",
       "      <td>0</td>\n",
       "      <td>1</td>\n",
       "    </tr>\n",
       "    <tr>\n",
       "      <th>4</th>\n",
       "      <td>0</td>\n",
       "      <td>0</td>\n",
       "      <td>0</td>\n",
       "      <td>0</td>\n",
       "      <td>0</td>\n",
       "      <td>0</td>\n",
       "      <td>1</td>\n",
       "      <td>0</td>\n",
       "      <td>0</td>\n",
       "      <td>0</td>\n",
       "      <td>0</td>\n",
       "      <td>0</td>\n",
       "      <td>0</td>\n",
       "      <td>0</td>\n",
       "      <td>0</td>\n",
       "      <td>0</td>\n",
       "      <td>0</td>\n",
       "      <td>0</td>\n",
       "    </tr>\n",
       "    <tr>\n",
       "      <th>5</th>\n",
       "      <td>1</td>\n",
       "      <td>0</td>\n",
       "      <td>0</td>\n",
       "      <td>0</td>\n",
       "      <td>0</td>\n",
       "      <td>0</td>\n",
       "      <td>0</td>\n",
       "      <td>0</td>\n",
       "      <td>0</td>\n",
       "      <td>0</td>\n",
       "      <td>0</td>\n",
       "      <td>0</td>\n",
       "      <td>0</td>\n",
       "      <td>0</td>\n",
       "      <td>0</td>\n",
       "      <td>0</td>\n",
       "      <td>0</td>\n",
       "      <td>0</td>\n",
       "    </tr>\n",
       "    <tr>\n",
       "      <th>6</th>\n",
       "      <td>0</td>\n",
       "      <td>1</td>\n",
       "      <td>0</td>\n",
       "      <td>1</td>\n",
       "      <td>0</td>\n",
       "      <td>0</td>\n",
       "      <td>0</td>\n",
       "      <td>0</td>\n",
       "      <td>0</td>\n",
       "      <td>0</td>\n",
       "      <td>0</td>\n",
       "      <td>0</td>\n",
       "      <td>0</td>\n",
       "      <td>0</td>\n",
       "      <td>0</td>\n",
       "      <td>0</td>\n",
       "      <td>0</td>\n",
       "      <td>0</td>\n",
       "    </tr>\n",
       "    <tr>\n",
       "      <th>7</th>\n",
       "      <td>1</td>\n",
       "      <td>0</td>\n",
       "      <td>0</td>\n",
       "      <td>0</td>\n",
       "      <td>0</td>\n",
       "      <td>0</td>\n",
       "      <td>0</td>\n",
       "      <td>0</td>\n",
       "      <td>0</td>\n",
       "      <td>0</td>\n",
       "      <td>0</td>\n",
       "      <td>0</td>\n",
       "      <td>0</td>\n",
       "      <td>0</td>\n",
       "      <td>0</td>\n",
       "      <td>0</td>\n",
       "      <td>0</td>\n",
       "      <td>0</td>\n",
       "    </tr>\n",
       "    <tr>\n",
       "      <th>8</th>\n",
       "      <td>0</td>\n",
       "      <td>0</td>\n",
       "      <td>0</td>\n",
       "      <td>0</td>\n",
       "      <td>0</td>\n",
       "      <td>0</td>\n",
       "      <td>0</td>\n",
       "      <td>0</td>\n",
       "      <td>1</td>\n",
       "      <td>0</td>\n",
       "      <td>1</td>\n",
       "      <td>0</td>\n",
       "      <td>0</td>\n",
       "      <td>0</td>\n",
       "      <td>0</td>\n",
       "      <td>0</td>\n",
       "      <td>0</td>\n",
       "      <td>0</td>\n",
       "    </tr>\n",
       "    <tr>\n",
       "      <th>9</th>\n",
       "      <td>0</td>\n",
       "      <td>0</td>\n",
       "      <td>0</td>\n",
       "      <td>0</td>\n",
       "      <td>0</td>\n",
       "      <td>0</td>\n",
       "      <td>0</td>\n",
       "      <td>0</td>\n",
       "      <td>0</td>\n",
       "      <td>0</td>\n",
       "      <td>0</td>\n",
       "      <td>0</td>\n",
       "      <td>0</td>\n",
       "      <td>0</td>\n",
       "      <td>0</td>\n",
       "      <td>0</td>\n",
       "      <td>0</td>\n",
       "      <td>0</td>\n",
       "    </tr>\n",
       "    <tr>\n",
       "      <th>10</th>\n",
       "      <td>0</td>\n",
       "      <td>0</td>\n",
       "      <td>0</td>\n",
       "      <td>0</td>\n",
       "      <td>0</td>\n",
       "      <td>0</td>\n",
       "      <td>0</td>\n",
       "      <td>0</td>\n",
       "      <td>0</td>\n",
       "      <td>0</td>\n",
       "      <td>0</td>\n",
       "      <td>1</td>\n",
       "      <td>0</td>\n",
       "      <td>0</td>\n",
       "      <td>0</td>\n",
       "      <td>0</td>\n",
       "      <td>0</td>\n",
       "      <td>0</td>\n",
       "    </tr>\n",
       "    <tr>\n",
       "      <th>11</th>\n",
       "      <td>0</td>\n",
       "      <td>0</td>\n",
       "      <td>0</td>\n",
       "      <td>0</td>\n",
       "      <td>0</td>\n",
       "      <td>0</td>\n",
       "      <td>0</td>\n",
       "      <td>1</td>\n",
       "      <td>0</td>\n",
       "      <td>0</td>\n",
       "      <td>0</td>\n",
       "      <td>0</td>\n",
       "      <td>0</td>\n",
       "      <td>0</td>\n",
       "      <td>0</td>\n",
       "      <td>0</td>\n",
       "      <td>0</td>\n",
       "      <td>0</td>\n",
       "    </tr>\n",
       "    <tr>\n",
       "      <th>12</th>\n",
       "      <td>0</td>\n",
       "      <td>0</td>\n",
       "      <td>0</td>\n",
       "      <td>0</td>\n",
       "      <td>0</td>\n",
       "      <td>0</td>\n",
       "      <td>0</td>\n",
       "      <td>0</td>\n",
       "      <td>0</td>\n",
       "      <td>0</td>\n",
       "      <td>0</td>\n",
       "      <td>1</td>\n",
       "      <td>0</td>\n",
       "      <td>0</td>\n",
       "      <td>0</td>\n",
       "      <td>0</td>\n",
       "      <td>0</td>\n",
       "      <td>0</td>\n",
       "    </tr>\n",
       "    <tr>\n",
       "      <th>13</th>\n",
       "      <td>0</td>\n",
       "      <td>0</td>\n",
       "      <td>0</td>\n",
       "      <td>0</td>\n",
       "      <td>0</td>\n",
       "      <td>0</td>\n",
       "      <td>0</td>\n",
       "      <td>0</td>\n",
       "      <td>1</td>\n",
       "      <td>0</td>\n",
       "      <td>0</td>\n",
       "      <td>0</td>\n",
       "      <td>0</td>\n",
       "      <td>0</td>\n",
       "      <td>0</td>\n",
       "      <td>0</td>\n",
       "      <td>0</td>\n",
       "      <td>1</td>\n",
       "    </tr>\n",
       "    <tr>\n",
       "      <th>14</th>\n",
       "      <td>0</td>\n",
       "      <td>0</td>\n",
       "      <td>0</td>\n",
       "      <td>0</td>\n",
       "      <td>0</td>\n",
       "      <td>0</td>\n",
       "      <td>1</td>\n",
       "      <td>0</td>\n",
       "      <td>0</td>\n",
       "      <td>0</td>\n",
       "      <td>0</td>\n",
       "      <td>0</td>\n",
       "      <td>0</td>\n",
       "      <td>0</td>\n",
       "      <td>0</td>\n",
       "      <td>0</td>\n",
       "      <td>0</td>\n",
       "      <td>0</td>\n",
       "    </tr>\n",
       "    <tr>\n",
       "      <th>15</th>\n",
       "      <td>0</td>\n",
       "      <td>0</td>\n",
       "      <td>0</td>\n",
       "      <td>0</td>\n",
       "      <td>0</td>\n",
       "      <td>0</td>\n",
       "      <td>1</td>\n",
       "      <td>0</td>\n",
       "      <td>0</td>\n",
       "      <td>0</td>\n",
       "      <td>0</td>\n",
       "      <td>0</td>\n",
       "      <td>0</td>\n",
       "      <td>0</td>\n",
       "      <td>0</td>\n",
       "      <td>0</td>\n",
       "      <td>0</td>\n",
       "      <td>0</td>\n",
       "    </tr>\n",
       "    <tr>\n",
       "      <th>16</th>\n",
       "      <td>0</td>\n",
       "      <td>0</td>\n",
       "      <td>0</td>\n",
       "      <td>0</td>\n",
       "      <td>0</td>\n",
       "      <td>0</td>\n",
       "      <td>0</td>\n",
       "      <td>0</td>\n",
       "      <td>1</td>\n",
       "      <td>0</td>\n",
       "      <td>0</td>\n",
       "      <td>0</td>\n",
       "      <td>0</td>\n",
       "      <td>0</td>\n",
       "      <td>0</td>\n",
       "      <td>0</td>\n",
       "      <td>0</td>\n",
       "      <td>0</td>\n",
       "    </tr>\n",
       "    <tr>\n",
       "      <th>17</th>\n",
       "      <td>0</td>\n",
       "      <td>0</td>\n",
       "      <td>0</td>\n",
       "      <td>0</td>\n",
       "      <td>0</td>\n",
       "      <td>0</td>\n",
       "      <td>0</td>\n",
       "      <td>0</td>\n",
       "      <td>1</td>\n",
       "      <td>0</td>\n",
       "      <td>0</td>\n",
       "      <td>0</td>\n",
       "      <td>0</td>\n",
       "      <td>0</td>\n",
       "      <td>0</td>\n",
       "      <td>0</td>\n",
       "      <td>1</td>\n",
       "      <td>1</td>\n",
       "    </tr>\n",
       "    <tr>\n",
       "      <th>18</th>\n",
       "      <td>0</td>\n",
       "      <td>0</td>\n",
       "      <td>1</td>\n",
       "      <td>0</td>\n",
       "      <td>0</td>\n",
       "      <td>0</td>\n",
       "      <td>0</td>\n",
       "      <td>0</td>\n",
       "      <td>0</td>\n",
       "      <td>0</td>\n",
       "      <td>0</td>\n",
       "      <td>0</td>\n",
       "      <td>0</td>\n",
       "      <td>0</td>\n",
       "      <td>0</td>\n",
       "      <td>0</td>\n",
       "      <td>0</td>\n",
       "      <td>0</td>\n",
       "    </tr>\n",
       "    <tr>\n",
       "      <th>19</th>\n",
       "      <td>0</td>\n",
       "      <td>0</td>\n",
       "      <td>0</td>\n",
       "      <td>0</td>\n",
       "      <td>0</td>\n",
       "      <td>0</td>\n",
       "      <td>0</td>\n",
       "      <td>1</td>\n",
       "      <td>0</td>\n",
       "      <td>0</td>\n",
       "      <td>0</td>\n",
       "      <td>0</td>\n",
       "      <td>0</td>\n",
       "      <td>0</td>\n",
       "      <td>0</td>\n",
       "      <td>0</td>\n",
       "      <td>0</td>\n",
       "      <td>0</td>\n",
       "    </tr>\n",
       "    <tr>\n",
       "      <th>20</th>\n",
       "      <td>0</td>\n",
       "      <td>0</td>\n",
       "      <td>1</td>\n",
       "      <td>0</td>\n",
       "      <td>0</td>\n",
       "      <td>0</td>\n",
       "      <td>0</td>\n",
       "      <td>0</td>\n",
       "      <td>0</td>\n",
       "      <td>0</td>\n",
       "      <td>0</td>\n",
       "      <td>0</td>\n",
       "      <td>0</td>\n",
       "      <td>0</td>\n",
       "      <td>0</td>\n",
       "      <td>0</td>\n",
       "      <td>0</td>\n",
       "      <td>0</td>\n",
       "    </tr>\n",
       "    <tr>\n",
       "      <th>21</th>\n",
       "      <td>0</td>\n",
       "      <td>0</td>\n",
       "      <td>0</td>\n",
       "      <td>0</td>\n",
       "      <td>0</td>\n",
       "      <td>0</td>\n",
       "      <td>0</td>\n",
       "      <td>0</td>\n",
       "      <td>0</td>\n",
       "      <td>0</td>\n",
       "      <td>0</td>\n",
       "      <td>1</td>\n",
       "      <td>0</td>\n",
       "      <td>0</td>\n",
       "      <td>0</td>\n",
       "      <td>1</td>\n",
       "      <td>0</td>\n",
       "      <td>0</td>\n",
       "    </tr>\n",
       "    <tr>\n",
       "      <th>22</th>\n",
       "      <td>0</td>\n",
       "      <td>0</td>\n",
       "      <td>1</td>\n",
       "      <td>0</td>\n",
       "      <td>0</td>\n",
       "      <td>0</td>\n",
       "      <td>0</td>\n",
       "      <td>0</td>\n",
       "      <td>0</td>\n",
       "      <td>0</td>\n",
       "      <td>0</td>\n",
       "      <td>0</td>\n",
       "      <td>0</td>\n",
       "      <td>0</td>\n",
       "      <td>0</td>\n",
       "      <td>0</td>\n",
       "      <td>0</td>\n",
       "      <td>0</td>\n",
       "    </tr>\n",
       "    <tr>\n",
       "      <th>23</th>\n",
       "      <td>0</td>\n",
       "      <td>0</td>\n",
       "      <td>0</td>\n",
       "      <td>0</td>\n",
       "      <td>0</td>\n",
       "      <td>0</td>\n",
       "      <td>1</td>\n",
       "      <td>0</td>\n",
       "      <td>0</td>\n",
       "      <td>0</td>\n",
       "      <td>0</td>\n",
       "      <td>0</td>\n",
       "      <td>0</td>\n",
       "      <td>0</td>\n",
       "      <td>0</td>\n",
       "      <td>0</td>\n",
       "      <td>0</td>\n",
       "      <td>0</td>\n",
       "    </tr>\n",
       "    <tr>\n",
       "      <th>24</th>\n",
       "      <td>0</td>\n",
       "      <td>0</td>\n",
       "      <td>0</td>\n",
       "      <td>0</td>\n",
       "      <td>0</td>\n",
       "      <td>0</td>\n",
       "      <td>1</td>\n",
       "      <td>0</td>\n",
       "      <td>0</td>\n",
       "      <td>0</td>\n",
       "      <td>0</td>\n",
       "      <td>0</td>\n",
       "      <td>0</td>\n",
       "      <td>1</td>\n",
       "      <td>0</td>\n",
       "      <td>0</td>\n",
       "      <td>0</td>\n",
       "      <td>0</td>\n",
       "    </tr>\n",
       "    <tr>\n",
       "      <th>25</th>\n",
       "      <td>0</td>\n",
       "      <td>0</td>\n",
       "      <td>0</td>\n",
       "      <td>0</td>\n",
       "      <td>1</td>\n",
       "      <td>0</td>\n",
       "      <td>0</td>\n",
       "      <td>1</td>\n",
       "      <td>0</td>\n",
       "      <td>0</td>\n",
       "      <td>0</td>\n",
       "      <td>0</td>\n",
       "      <td>0</td>\n",
       "      <td>0</td>\n",
       "      <td>0</td>\n",
       "      <td>0</td>\n",
       "      <td>0</td>\n",
       "      <td>0</td>\n",
       "    </tr>\n",
       "    <tr>\n",
       "      <th>26</th>\n",
       "      <td>0</td>\n",
       "      <td>0</td>\n",
       "      <td>0</td>\n",
       "      <td>0</td>\n",
       "      <td>0</td>\n",
       "      <td>0</td>\n",
       "      <td>0</td>\n",
       "      <td>0</td>\n",
       "      <td>0</td>\n",
       "      <td>0</td>\n",
       "      <td>0</td>\n",
       "      <td>0</td>\n",
       "      <td>0</td>\n",
       "      <td>0</td>\n",
       "      <td>0</td>\n",
       "      <td>0</td>\n",
       "      <td>1</td>\n",
       "      <td>0</td>\n",
       "    </tr>\n",
       "    <tr>\n",
       "      <th>27</th>\n",
       "      <td>0</td>\n",
       "      <td>0</td>\n",
       "      <td>1</td>\n",
       "      <td>0</td>\n",
       "      <td>0</td>\n",
       "      <td>0</td>\n",
       "      <td>0</td>\n",
       "      <td>0</td>\n",
       "      <td>0</td>\n",
       "      <td>0</td>\n",
       "      <td>0</td>\n",
       "      <td>0</td>\n",
       "      <td>0</td>\n",
       "      <td>0</td>\n",
       "      <td>0</td>\n",
       "      <td>0</td>\n",
       "      <td>0</td>\n",
       "      <td>0</td>\n",
       "    </tr>\n",
       "    <tr>\n",
       "      <th>28</th>\n",
       "      <td>0</td>\n",
       "      <td>0</td>\n",
       "      <td>0</td>\n",
       "      <td>0</td>\n",
       "      <td>0</td>\n",
       "      <td>1</td>\n",
       "      <td>0</td>\n",
       "      <td>0</td>\n",
       "      <td>0</td>\n",
       "      <td>0</td>\n",
       "      <td>0</td>\n",
       "      <td>0</td>\n",
       "      <td>0</td>\n",
       "      <td>0</td>\n",
       "      <td>0</td>\n",
       "      <td>0</td>\n",
       "      <td>0</td>\n",
       "      <td>0</td>\n",
       "    </tr>\n",
       "    <tr>\n",
       "      <th>29</th>\n",
       "      <td>0</td>\n",
       "      <td>0</td>\n",
       "      <td>0</td>\n",
       "      <td>0</td>\n",
       "      <td>0</td>\n",
       "      <td>0</td>\n",
       "      <td>0</td>\n",
       "      <td>0</td>\n",
       "      <td>0</td>\n",
       "      <td>0</td>\n",
       "      <td>0</td>\n",
       "      <td>0</td>\n",
       "      <td>1</td>\n",
       "      <td>0</td>\n",
       "      <td>0</td>\n",
       "      <td>0</td>\n",
       "      <td>0</td>\n",
       "      <td>0</td>\n",
       "    </tr>\n",
       "    <tr>\n",
       "      <th>...</th>\n",
       "      <td>...</td>\n",
       "      <td>...</td>\n",
       "      <td>...</td>\n",
       "      <td>...</td>\n",
       "      <td>...</td>\n",
       "      <td>...</td>\n",
       "      <td>...</td>\n",
       "      <td>...</td>\n",
       "      <td>...</td>\n",
       "      <td>...</td>\n",
       "      <td>...</td>\n",
       "      <td>...</td>\n",
       "      <td>...</td>\n",
       "      <td>...</td>\n",
       "      <td>...</td>\n",
       "      <td>...</td>\n",
       "      <td>...</td>\n",
       "      <td>...</td>\n",
       "    </tr>\n",
       "    <tr>\n",
       "      <th>2063</th>\n",
       "      <td>0</td>\n",
       "      <td>0</td>\n",
       "      <td>0</td>\n",
       "      <td>0</td>\n",
       "      <td>0</td>\n",
       "      <td>0</td>\n",
       "      <td>0</td>\n",
       "      <td>0</td>\n",
       "      <td>0</td>\n",
       "      <td>0</td>\n",
       "      <td>0</td>\n",
       "      <td>0</td>\n",
       "      <td>0</td>\n",
       "      <td>0</td>\n",
       "      <td>1</td>\n",
       "      <td>0</td>\n",
       "      <td>0</td>\n",
       "      <td>0</td>\n",
       "    </tr>\n",
       "    <tr>\n",
       "      <th>2064</th>\n",
       "      <td>0</td>\n",
       "      <td>0</td>\n",
       "      <td>0</td>\n",
       "      <td>0</td>\n",
       "      <td>0</td>\n",
       "      <td>0</td>\n",
       "      <td>0</td>\n",
       "      <td>0</td>\n",
       "      <td>0</td>\n",
       "      <td>0</td>\n",
       "      <td>0</td>\n",
       "      <td>0</td>\n",
       "      <td>0</td>\n",
       "      <td>0</td>\n",
       "      <td>0</td>\n",
       "      <td>0</td>\n",
       "      <td>1</td>\n",
       "      <td>0</td>\n",
       "    </tr>\n",
       "    <tr>\n",
       "      <th>2065</th>\n",
       "      <td>0</td>\n",
       "      <td>0</td>\n",
       "      <td>0</td>\n",
       "      <td>0</td>\n",
       "      <td>0</td>\n",
       "      <td>0</td>\n",
       "      <td>0</td>\n",
       "      <td>0</td>\n",
       "      <td>1</td>\n",
       "      <td>0</td>\n",
       "      <td>0</td>\n",
       "      <td>0</td>\n",
       "      <td>0</td>\n",
       "      <td>0</td>\n",
       "      <td>0</td>\n",
       "      <td>0</td>\n",
       "      <td>1</td>\n",
       "      <td>1</td>\n",
       "    </tr>\n",
       "    <tr>\n",
       "      <th>2066</th>\n",
       "      <td>0</td>\n",
       "      <td>0</td>\n",
       "      <td>0</td>\n",
       "      <td>0</td>\n",
       "      <td>0</td>\n",
       "      <td>0</td>\n",
       "      <td>0</td>\n",
       "      <td>0</td>\n",
       "      <td>0</td>\n",
       "      <td>1</td>\n",
       "      <td>0</td>\n",
       "      <td>0</td>\n",
       "      <td>0</td>\n",
       "      <td>0</td>\n",
       "      <td>0</td>\n",
       "      <td>0</td>\n",
       "      <td>0</td>\n",
       "      <td>0</td>\n",
       "    </tr>\n",
       "    <tr>\n",
       "      <th>2067</th>\n",
       "      <td>0</td>\n",
       "      <td>0</td>\n",
       "      <td>0</td>\n",
       "      <td>0</td>\n",
       "      <td>0</td>\n",
       "      <td>0</td>\n",
       "      <td>0</td>\n",
       "      <td>0</td>\n",
       "      <td>0</td>\n",
       "      <td>0</td>\n",
       "      <td>0</td>\n",
       "      <td>0</td>\n",
       "      <td>0</td>\n",
       "      <td>0</td>\n",
       "      <td>0</td>\n",
       "      <td>1</td>\n",
       "      <td>0</td>\n",
       "      <td>0</td>\n",
       "    </tr>\n",
       "    <tr>\n",
       "      <th>2068</th>\n",
       "      <td>0</td>\n",
       "      <td>0</td>\n",
       "      <td>0</td>\n",
       "      <td>0</td>\n",
       "      <td>0</td>\n",
       "      <td>0</td>\n",
       "      <td>0</td>\n",
       "      <td>0</td>\n",
       "      <td>0</td>\n",
       "      <td>0</td>\n",
       "      <td>0</td>\n",
       "      <td>0</td>\n",
       "      <td>0</td>\n",
       "      <td>0</td>\n",
       "      <td>0</td>\n",
       "      <td>1</td>\n",
       "      <td>0</td>\n",
       "      <td>0</td>\n",
       "    </tr>\n",
       "    <tr>\n",
       "      <th>2069</th>\n",
       "      <td>0</td>\n",
       "      <td>0</td>\n",
       "      <td>0</td>\n",
       "      <td>0</td>\n",
       "      <td>0</td>\n",
       "      <td>0</td>\n",
       "      <td>0</td>\n",
       "      <td>0</td>\n",
       "      <td>0</td>\n",
       "      <td>0</td>\n",
       "      <td>0</td>\n",
       "      <td>0</td>\n",
       "      <td>0</td>\n",
       "      <td>0</td>\n",
       "      <td>0</td>\n",
       "      <td>1</td>\n",
       "      <td>0</td>\n",
       "      <td>0</td>\n",
       "    </tr>\n",
       "    <tr>\n",
       "      <th>2070</th>\n",
       "      <td>0</td>\n",
       "      <td>1</td>\n",
       "      <td>0</td>\n",
       "      <td>0</td>\n",
       "      <td>0</td>\n",
       "      <td>0</td>\n",
       "      <td>0</td>\n",
       "      <td>0</td>\n",
       "      <td>0</td>\n",
       "      <td>0</td>\n",
       "      <td>0</td>\n",
       "      <td>0</td>\n",
       "      <td>0</td>\n",
       "      <td>0</td>\n",
       "      <td>0</td>\n",
       "      <td>0</td>\n",
       "      <td>0</td>\n",
       "      <td>0</td>\n",
       "    </tr>\n",
       "    <tr>\n",
       "      <th>2071</th>\n",
       "      <td>0</td>\n",
       "      <td>0</td>\n",
       "      <td>0</td>\n",
       "      <td>0</td>\n",
       "      <td>0</td>\n",
       "      <td>0</td>\n",
       "      <td>0</td>\n",
       "      <td>0</td>\n",
       "      <td>0</td>\n",
       "      <td>0</td>\n",
       "      <td>0</td>\n",
       "      <td>0</td>\n",
       "      <td>0</td>\n",
       "      <td>0</td>\n",
       "      <td>0</td>\n",
       "      <td>0</td>\n",
       "      <td>0</td>\n",
       "      <td>0</td>\n",
       "    </tr>\n",
       "    <tr>\n",
       "      <th>2072</th>\n",
       "      <td>0</td>\n",
       "      <td>0</td>\n",
       "      <td>0</td>\n",
       "      <td>0</td>\n",
       "      <td>0</td>\n",
       "      <td>0</td>\n",
       "      <td>1</td>\n",
       "      <td>0</td>\n",
       "      <td>0</td>\n",
       "      <td>0</td>\n",
       "      <td>0</td>\n",
       "      <td>0</td>\n",
       "      <td>0</td>\n",
       "      <td>0</td>\n",
       "      <td>0</td>\n",
       "      <td>0</td>\n",
       "      <td>0</td>\n",
       "      <td>0</td>\n",
       "    </tr>\n",
       "    <tr>\n",
       "      <th>2073</th>\n",
       "      <td>0</td>\n",
       "      <td>0</td>\n",
       "      <td>0</td>\n",
       "      <td>0</td>\n",
       "      <td>0</td>\n",
       "      <td>0</td>\n",
       "      <td>0</td>\n",
       "      <td>0</td>\n",
       "      <td>0</td>\n",
       "      <td>1</td>\n",
       "      <td>0</td>\n",
       "      <td>0</td>\n",
       "      <td>0</td>\n",
       "      <td>0</td>\n",
       "      <td>0</td>\n",
       "      <td>0</td>\n",
       "      <td>0</td>\n",
       "      <td>0</td>\n",
       "    </tr>\n",
       "    <tr>\n",
       "      <th>2074</th>\n",
       "      <td>0</td>\n",
       "      <td>0</td>\n",
       "      <td>0</td>\n",
       "      <td>0</td>\n",
       "      <td>0</td>\n",
       "      <td>0</td>\n",
       "      <td>0</td>\n",
       "      <td>0</td>\n",
       "      <td>0</td>\n",
       "      <td>0</td>\n",
       "      <td>0</td>\n",
       "      <td>0</td>\n",
       "      <td>0</td>\n",
       "      <td>0</td>\n",
       "      <td>1</td>\n",
       "      <td>0</td>\n",
       "      <td>0</td>\n",
       "      <td>0</td>\n",
       "    </tr>\n",
       "    <tr>\n",
       "      <th>2075</th>\n",
       "      <td>0</td>\n",
       "      <td>1</td>\n",
       "      <td>0</td>\n",
       "      <td>0</td>\n",
       "      <td>0</td>\n",
       "      <td>0</td>\n",
       "      <td>0</td>\n",
       "      <td>0</td>\n",
       "      <td>0</td>\n",
       "      <td>0</td>\n",
       "      <td>0</td>\n",
       "      <td>0</td>\n",
       "      <td>0</td>\n",
       "      <td>0</td>\n",
       "      <td>0</td>\n",
       "      <td>0</td>\n",
       "      <td>0</td>\n",
       "      <td>0</td>\n",
       "    </tr>\n",
       "    <tr>\n",
       "      <th>2076</th>\n",
       "      <td>0</td>\n",
       "      <td>0</td>\n",
       "      <td>0</td>\n",
       "      <td>0</td>\n",
       "      <td>0</td>\n",
       "      <td>0</td>\n",
       "      <td>0</td>\n",
       "      <td>0</td>\n",
       "      <td>0</td>\n",
       "      <td>0</td>\n",
       "      <td>0</td>\n",
       "      <td>0</td>\n",
       "      <td>0</td>\n",
       "      <td>0</td>\n",
       "      <td>0</td>\n",
       "      <td>0</td>\n",
       "      <td>0</td>\n",
       "      <td>0</td>\n",
       "    </tr>\n",
       "    <tr>\n",
       "      <th>2077</th>\n",
       "      <td>0</td>\n",
       "      <td>0</td>\n",
       "      <td>0</td>\n",
       "      <td>0</td>\n",
       "      <td>0</td>\n",
       "      <td>0</td>\n",
       "      <td>0</td>\n",
       "      <td>0</td>\n",
       "      <td>0</td>\n",
       "      <td>0</td>\n",
       "      <td>0</td>\n",
       "      <td>0</td>\n",
       "      <td>0</td>\n",
       "      <td>0</td>\n",
       "      <td>0</td>\n",
       "      <td>0</td>\n",
       "      <td>0</td>\n",
       "      <td>0</td>\n",
       "    </tr>\n",
       "    <tr>\n",
       "      <th>2078</th>\n",
       "      <td>0</td>\n",
       "      <td>0</td>\n",
       "      <td>0</td>\n",
       "      <td>0</td>\n",
       "      <td>0</td>\n",
       "      <td>1</td>\n",
       "      <td>1</td>\n",
       "      <td>0</td>\n",
       "      <td>0</td>\n",
       "      <td>0</td>\n",
       "      <td>0</td>\n",
       "      <td>0</td>\n",
       "      <td>0</td>\n",
       "      <td>0</td>\n",
       "      <td>0</td>\n",
       "      <td>0</td>\n",
       "      <td>0</td>\n",
       "      <td>0</td>\n",
       "    </tr>\n",
       "    <tr>\n",
       "      <th>2079</th>\n",
       "      <td>0</td>\n",
       "      <td>0</td>\n",
       "      <td>0</td>\n",
       "      <td>0</td>\n",
       "      <td>0</td>\n",
       "      <td>1</td>\n",
       "      <td>0</td>\n",
       "      <td>0</td>\n",
       "      <td>0</td>\n",
       "      <td>0</td>\n",
       "      <td>0</td>\n",
       "      <td>0</td>\n",
       "      <td>0</td>\n",
       "      <td>0</td>\n",
       "      <td>0</td>\n",
       "      <td>0</td>\n",
       "      <td>0</td>\n",
       "      <td>0</td>\n",
       "    </tr>\n",
       "    <tr>\n",
       "      <th>2080</th>\n",
       "      <td>0</td>\n",
       "      <td>1</td>\n",
       "      <td>0</td>\n",
       "      <td>0</td>\n",
       "      <td>0</td>\n",
       "      <td>0</td>\n",
       "      <td>0</td>\n",
       "      <td>0</td>\n",
       "      <td>0</td>\n",
       "      <td>0</td>\n",
       "      <td>0</td>\n",
       "      <td>0</td>\n",
       "      <td>0</td>\n",
       "      <td>0</td>\n",
       "      <td>0</td>\n",
       "      <td>0</td>\n",
       "      <td>0</td>\n",
       "      <td>0</td>\n",
       "    </tr>\n",
       "    <tr>\n",
       "      <th>2081</th>\n",
       "      <td>0</td>\n",
       "      <td>0</td>\n",
       "      <td>0</td>\n",
       "      <td>0</td>\n",
       "      <td>0</td>\n",
       "      <td>0</td>\n",
       "      <td>0</td>\n",
       "      <td>0</td>\n",
       "      <td>0</td>\n",
       "      <td>0</td>\n",
       "      <td>0</td>\n",
       "      <td>1</td>\n",
       "      <td>0</td>\n",
       "      <td>0</td>\n",
       "      <td>0</td>\n",
       "      <td>1</td>\n",
       "      <td>0</td>\n",
       "      <td>0</td>\n",
       "    </tr>\n",
       "    <tr>\n",
       "      <th>2082</th>\n",
       "      <td>0</td>\n",
       "      <td>1</td>\n",
       "      <td>0</td>\n",
       "      <td>0</td>\n",
       "      <td>0</td>\n",
       "      <td>0</td>\n",
       "      <td>0</td>\n",
       "      <td>0</td>\n",
       "      <td>0</td>\n",
       "      <td>0</td>\n",
       "      <td>0</td>\n",
       "      <td>0</td>\n",
       "      <td>0</td>\n",
       "      <td>0</td>\n",
       "      <td>0</td>\n",
       "      <td>0</td>\n",
       "      <td>0</td>\n",
       "      <td>0</td>\n",
       "    </tr>\n",
       "    <tr>\n",
       "      <th>2083</th>\n",
       "      <td>0</td>\n",
       "      <td>0</td>\n",
       "      <td>0</td>\n",
       "      <td>0</td>\n",
       "      <td>0</td>\n",
       "      <td>1</td>\n",
       "      <td>0</td>\n",
       "      <td>0</td>\n",
       "      <td>0</td>\n",
       "      <td>0</td>\n",
       "      <td>0</td>\n",
       "      <td>0</td>\n",
       "      <td>0</td>\n",
       "      <td>0</td>\n",
       "      <td>0</td>\n",
       "      <td>0</td>\n",
       "      <td>0</td>\n",
       "      <td>0</td>\n",
       "    </tr>\n",
       "    <tr>\n",
       "      <th>2084</th>\n",
       "      <td>0</td>\n",
       "      <td>1</td>\n",
       "      <td>0</td>\n",
       "      <td>0</td>\n",
       "      <td>0</td>\n",
       "      <td>0</td>\n",
       "      <td>0</td>\n",
       "      <td>0</td>\n",
       "      <td>0</td>\n",
       "      <td>0</td>\n",
       "      <td>0</td>\n",
       "      <td>0</td>\n",
       "      <td>0</td>\n",
       "      <td>0</td>\n",
       "      <td>0</td>\n",
       "      <td>0</td>\n",
       "      <td>0</td>\n",
       "      <td>0</td>\n",
       "    </tr>\n",
       "    <tr>\n",
       "      <th>2085</th>\n",
       "      <td>0</td>\n",
       "      <td>0</td>\n",
       "      <td>0</td>\n",
       "      <td>0</td>\n",
       "      <td>0</td>\n",
       "      <td>0</td>\n",
       "      <td>0</td>\n",
       "      <td>0</td>\n",
       "      <td>0</td>\n",
       "      <td>0</td>\n",
       "      <td>0</td>\n",
       "      <td>0</td>\n",
       "      <td>0</td>\n",
       "      <td>0</td>\n",
       "      <td>0</td>\n",
       "      <td>0</td>\n",
       "      <td>0</td>\n",
       "      <td>0</td>\n",
       "    </tr>\n",
       "    <tr>\n",
       "      <th>2086</th>\n",
       "      <td>0</td>\n",
       "      <td>0</td>\n",
       "      <td>0</td>\n",
       "      <td>0</td>\n",
       "      <td>0</td>\n",
       "      <td>0</td>\n",
       "      <td>0</td>\n",
       "      <td>0</td>\n",
       "      <td>0</td>\n",
       "      <td>0</td>\n",
       "      <td>0</td>\n",
       "      <td>0</td>\n",
       "      <td>0</td>\n",
       "      <td>0</td>\n",
       "      <td>0</td>\n",
       "      <td>1</td>\n",
       "      <td>0</td>\n",
       "      <td>0</td>\n",
       "    </tr>\n",
       "    <tr>\n",
       "      <th>2087</th>\n",
       "      <td>0</td>\n",
       "      <td>1</td>\n",
       "      <td>0</td>\n",
       "      <td>0</td>\n",
       "      <td>0</td>\n",
       "      <td>0</td>\n",
       "      <td>0</td>\n",
       "      <td>0</td>\n",
       "      <td>0</td>\n",
       "      <td>0</td>\n",
       "      <td>0</td>\n",
       "      <td>0</td>\n",
       "      <td>0</td>\n",
       "      <td>0</td>\n",
       "      <td>0</td>\n",
       "      <td>0</td>\n",
       "      <td>0</td>\n",
       "      <td>0</td>\n",
       "    </tr>\n",
       "    <tr>\n",
       "      <th>2088</th>\n",
       "      <td>0</td>\n",
       "      <td>0</td>\n",
       "      <td>0</td>\n",
       "      <td>0</td>\n",
       "      <td>0</td>\n",
       "      <td>1</td>\n",
       "      <td>0</td>\n",
       "      <td>0</td>\n",
       "      <td>0</td>\n",
       "      <td>0</td>\n",
       "      <td>0</td>\n",
       "      <td>0</td>\n",
       "      <td>0</td>\n",
       "      <td>0</td>\n",
       "      <td>0</td>\n",
       "      <td>0</td>\n",
       "      <td>0</td>\n",
       "      <td>0</td>\n",
       "    </tr>\n",
       "    <tr>\n",
       "      <th>2089</th>\n",
       "      <td>0</td>\n",
       "      <td>0</td>\n",
       "      <td>0</td>\n",
       "      <td>0</td>\n",
       "      <td>0</td>\n",
       "      <td>0</td>\n",
       "      <td>0</td>\n",
       "      <td>0</td>\n",
       "      <td>0</td>\n",
       "      <td>0</td>\n",
       "      <td>0</td>\n",
       "      <td>0</td>\n",
       "      <td>0</td>\n",
       "      <td>0</td>\n",
       "      <td>0</td>\n",
       "      <td>0</td>\n",
       "      <td>0</td>\n",
       "      <td>0</td>\n",
       "    </tr>\n",
       "    <tr>\n",
       "      <th>2090</th>\n",
       "      <td>0</td>\n",
       "      <td>0</td>\n",
       "      <td>0</td>\n",
       "      <td>0</td>\n",
       "      <td>0</td>\n",
       "      <td>0</td>\n",
       "      <td>0</td>\n",
       "      <td>0</td>\n",
       "      <td>0</td>\n",
       "      <td>0</td>\n",
       "      <td>0</td>\n",
       "      <td>0</td>\n",
       "      <td>0</td>\n",
       "      <td>0</td>\n",
       "      <td>0</td>\n",
       "      <td>0</td>\n",
       "      <td>0</td>\n",
       "      <td>0</td>\n",
       "    </tr>\n",
       "    <tr>\n",
       "      <th>2091</th>\n",
       "      <td>0</td>\n",
       "      <td>0</td>\n",
       "      <td>0</td>\n",
       "      <td>0</td>\n",
       "      <td>0</td>\n",
       "      <td>0</td>\n",
       "      <td>0</td>\n",
       "      <td>0</td>\n",
       "      <td>0</td>\n",
       "      <td>0</td>\n",
       "      <td>0</td>\n",
       "      <td>0</td>\n",
       "      <td>0</td>\n",
       "      <td>0</td>\n",
       "      <td>0</td>\n",
       "      <td>0</td>\n",
       "      <td>0</td>\n",
       "      <td>0</td>\n",
       "    </tr>\n",
       "    <tr>\n",
       "      <th>2092</th>\n",
       "      <td>0</td>\n",
       "      <td>0</td>\n",
       "      <td>0</td>\n",
       "      <td>0</td>\n",
       "      <td>0</td>\n",
       "      <td>0</td>\n",
       "      <td>0</td>\n",
       "      <td>0</td>\n",
       "      <td>0</td>\n",
       "      <td>0</td>\n",
       "      <td>1</td>\n",
       "      <td>0</td>\n",
       "      <td>0</td>\n",
       "      <td>0</td>\n",
       "      <td>0</td>\n",
       "      <td>0</td>\n",
       "      <td>0</td>\n",
       "      <td>0</td>\n",
       "    </tr>\n",
       "  </tbody>\n",
       "</table>\n",
       "<p>2093 rows × 18 columns</p>\n",
       "</div>"
      ],
      "text/plain": [
       "      is_aeroplane  is_bicycle  is_bird  is_boat  is_bottle  is_bus  is_car  \\\n",
       "0                0           0        0        0          0       0       0   \n",
       "1                0           0        0        0          1       0       0   \n",
       "2                0           0        0        0          0       0       0   \n",
       "3                0           0        0        0          1       0       0   \n",
       "4                0           0        0        0          0       0       1   \n",
       "5                1           0        0        0          0       0       0   \n",
       "6                0           1        0        1          0       0       0   \n",
       "7                1           0        0        0          0       0       0   \n",
       "8                0           0        0        0          0       0       0   \n",
       "9                0           0        0        0          0       0       0   \n",
       "10               0           0        0        0          0       0       0   \n",
       "11               0           0        0        0          0       0       0   \n",
       "12               0           0        0        0          0       0       0   \n",
       "13               0           0        0        0          0       0       0   \n",
       "14               0           0        0        0          0       0       1   \n",
       "15               0           0        0        0          0       0       1   \n",
       "16               0           0        0        0          0       0       0   \n",
       "17               0           0        0        0          0       0       0   \n",
       "18               0           0        1        0          0       0       0   \n",
       "19               0           0        0        0          0       0       0   \n",
       "20               0           0        1        0          0       0       0   \n",
       "21               0           0        0        0          0       0       0   \n",
       "22               0           0        1        0          0       0       0   \n",
       "23               0           0        0        0          0       0       1   \n",
       "24               0           0        0        0          0       0       1   \n",
       "25               0           0        0        0          1       0       0   \n",
       "26               0           0        0        0          0       0       0   \n",
       "27               0           0        1        0          0       0       0   \n",
       "28               0           0        0        0          0       1       0   \n",
       "29               0           0        0        0          0       0       0   \n",
       "...            ...         ...      ...      ...        ...     ...     ...   \n",
       "2063             0           0        0        0          0       0       0   \n",
       "2064             0           0        0        0          0       0       0   \n",
       "2065             0           0        0        0          0       0       0   \n",
       "2066             0           0        0        0          0       0       0   \n",
       "2067             0           0        0        0          0       0       0   \n",
       "2068             0           0        0        0          0       0       0   \n",
       "2069             0           0        0        0          0       0       0   \n",
       "2070             0           1        0        0          0       0       0   \n",
       "2071             0           0        0        0          0       0       0   \n",
       "2072             0           0        0        0          0       0       1   \n",
       "2073             0           0        0        0          0       0       0   \n",
       "2074             0           0        0        0          0       0       0   \n",
       "2075             0           1        0        0          0       0       0   \n",
       "2076             0           0        0        0          0       0       0   \n",
       "2077             0           0        0        0          0       0       0   \n",
       "2078             0           0        0        0          0       1       1   \n",
       "2079             0           0        0        0          0       1       0   \n",
       "2080             0           1        0        0          0       0       0   \n",
       "2081             0           0        0        0          0       0       0   \n",
       "2082             0           1        0        0          0       0       0   \n",
       "2083             0           0        0        0          0       1       0   \n",
       "2084             0           1        0        0          0       0       0   \n",
       "2085             0           0        0        0          0       0       0   \n",
       "2086             0           0        0        0          0       0       0   \n",
       "2087             0           1        0        0          0       0       0   \n",
       "2088             0           0        0        0          0       1       0   \n",
       "2089             0           0        0        0          0       0       0   \n",
       "2090             0           0        0        0          0       0       0   \n",
       "2091             0           0        0        0          0       0       0   \n",
       "2092             0           0        0        0          0       0       0   \n",
       "\n",
       "      is_cat  is_chair  is_cow  is_diningtable  is_dog  is_horse  \\\n",
       "0          0         0       0               0       0         1   \n",
       "1          0         0       0               0       0         0   \n",
       "2          0         0       0               0       1         0   \n",
       "3          0         0       0               0       0         0   \n",
       "4          0         0       0               0       0         0   \n",
       "5          0         0       0               0       0         0   \n",
       "6          0         0       0               0       0         0   \n",
       "7          0         0       0               0       0         0   \n",
       "8          0         1       0               1       0         0   \n",
       "9          0         0       0               0       0         0   \n",
       "10         0         0       0               0       1         0   \n",
       "11         1         0       0               0       0         0   \n",
       "12         0         0       0               0       1         0   \n",
       "13         0         1       0               0       0         0   \n",
       "14         0         0       0               0       0         0   \n",
       "15         0         0       0               0       0         0   \n",
       "16         0         1       0               0       0         0   \n",
       "17         0         1       0               0       0         0   \n",
       "18         0         0       0               0       0         0   \n",
       "19         1         0       0               0       0         0   \n",
       "20         0         0       0               0       0         0   \n",
       "21         0         0       0               0       1         0   \n",
       "22         0         0       0               0       0         0   \n",
       "23         0         0       0               0       0         0   \n",
       "24         0         0       0               0       0         0   \n",
       "25         1         0       0               0       0         0   \n",
       "26         0         0       0               0       0         0   \n",
       "27         0         0       0               0       0         0   \n",
       "28         0         0       0               0       0         0   \n",
       "29         0         0       0               0       0         1   \n",
       "...      ...       ...     ...             ...     ...       ...   \n",
       "2063       0         0       0               0       0         0   \n",
       "2064       0         0       0               0       0         0   \n",
       "2065       0         1       0               0       0         0   \n",
       "2066       0         0       1               0       0         0   \n",
       "2067       0         0       0               0       0         0   \n",
       "2068       0         0       0               0       0         0   \n",
       "2069       0         0       0               0       0         0   \n",
       "2070       0         0       0               0       0         0   \n",
       "2071       0         0       0               0       0         0   \n",
       "2072       0         0       0               0       0         0   \n",
       "2073       0         0       1               0       0         0   \n",
       "2074       0         0       0               0       0         0   \n",
       "2075       0         0       0               0       0         0   \n",
       "2076       0         0       0               0       0         0   \n",
       "2077       0         0       0               0       0         0   \n",
       "2078       0         0       0               0       0         0   \n",
       "2079       0         0       0               0       0         0   \n",
       "2080       0         0       0               0       0         0   \n",
       "2081       0         0       0               0       1         0   \n",
       "2082       0         0       0               0       0         0   \n",
       "2083       0         0       0               0       0         0   \n",
       "2084       0         0       0               0       0         0   \n",
       "2085       0         0       0               0       0         0   \n",
       "2086       0         0       0               0       0         0   \n",
       "2087       0         0       0               0       0         0   \n",
       "2088       0         0       0               0       0         0   \n",
       "2089       0         0       0               0       0         0   \n",
       "2090       0         0       0               0       0         0   \n",
       "2091       0         0       0               0       0         0   \n",
       "2092       0         0       0               1       0         0   \n",
       "\n",
       "      is_motorbike  is_pottedplant  is_sheep  is_sofa  is_tvmonitor  \n",
       "0                0               0         0        0             0  \n",
       "1                0               0         0        0             0  \n",
       "2                0               0         0        0             0  \n",
       "3                0               0         0        0             1  \n",
       "4                0               0         0        0             0  \n",
       "5                0               0         0        0             0  \n",
       "6                0               0         0        0             0  \n",
       "7                0               0         0        0             0  \n",
       "8                0               0         0        0             0  \n",
       "9                0               0         0        0             0  \n",
       "10               0               0         0        0             0  \n",
       "11               0               0         0        0             0  \n",
       "12               0               0         0        0             0  \n",
       "13               0               0         0        0             1  \n",
       "14               0               0         0        0             0  \n",
       "15               0               0         0        0             0  \n",
       "16               0               0         0        0             0  \n",
       "17               0               0         0        1             1  \n",
       "18               0               0         0        0             0  \n",
       "19               0               0         0        0             0  \n",
       "20               0               0         0        0             0  \n",
       "21               0               0         1        0             0  \n",
       "22               0               0         0        0             0  \n",
       "23               0               0         0        0             0  \n",
       "24               1               0         0        0             0  \n",
       "25               0               0         0        0             0  \n",
       "26               0               0         0        1             0  \n",
       "27               0               0         0        0             0  \n",
       "28               0               0         0        0             0  \n",
       "29               0               0         0        0             0  \n",
       "...            ...             ...       ...      ...           ...  \n",
       "2063             0               1         0        0             0  \n",
       "2064             0               0         0        1             0  \n",
       "2065             0               0         0        1             1  \n",
       "2066             0               0         0        0             0  \n",
       "2067             0               0         1        0             0  \n",
       "2068             0               0         1        0             0  \n",
       "2069             0               0         1        0             0  \n",
       "2070             0               0         0        0             0  \n",
       "2071             0               0         0        0             0  \n",
       "2072             0               0         0        0             0  \n",
       "2073             0               0         0        0             0  \n",
       "2074             0               1         0        0             0  \n",
       "2075             0               0         0        0             0  \n",
       "2076             0               0         0        0             0  \n",
       "2077             0               0         0        0             0  \n",
       "2078             0               0         0        0             0  \n",
       "2079             0               0         0        0             0  \n",
       "2080             0               0         0        0             0  \n",
       "2081             0               0         1        0             0  \n",
       "2082             0               0         0        0             0  \n",
       "2083             0               0         0        0             0  \n",
       "2084             0               0         0        0             0  \n",
       "2085             0               0         0        0             0  \n",
       "2086             0               0         1        0             0  \n",
       "2087             0               0         0        0             0  \n",
       "2088             0               0         0        0             0  \n",
       "2089             0               0         0        0             0  \n",
       "2090             0               0         0        0             0  \n",
       "2091             0               0         0        0             0  \n",
       "2092             0               0         0        0             0  \n",
       "\n",
       "[2093 rows x 18 columns]"
      ]
     },
     "execution_count": 145,
     "metadata": {},
     "output_type": "execute_result"
    }
   ],
   "source": [
    "X_tr.iloc[:,500:518]\n",
    "\n",
    "# features 500-518 are categorical. no scaling"
   ]
  },
  {
   "cell_type": "code",
   "execution_count": 146,
   "metadata": {
    "collapsed": true
   },
   "outputs": [],
   "source": [
    "scaler = StandardScaler()\n",
    "scaler.fit(X_tr.iloc[:, 0:500])\n",
    "\n",
    "X_tr.iloc[:, 0:500] = scaler.transform(X_tr.iloc[:, 0:500])\n",
    "X_val.iloc[:, 0:500] = scaler.transform(X_val.iloc[:, 0:500])"
   ]
  },
  {
   "cell_type": "code",
   "execution_count": 147,
   "metadata": {},
   "outputs": [
    {
     "name": "stdout",
     "output_type": "stream",
     "text": [
      "Validation accuracy: 0.712\n",
      "Training accuracy: 1.000\n"
     ]
    }
   ],
   "source": [
    "clf = RandomForestClassifier(criterion='entropy', n_estimators=500, random_state=31) \n",
    "\n",
    "# why we were asked to use the entropy criterion? \n",
    "\n",
    "clf.fit(X_tr, y_tr)\n",
    "\n",
    "print(\"Validation accuracy: {:.3f}\".format(clf.score(X_val, y_val)))\n",
    "print(\"Training accuracy: {:.3f}\".format(clf.score(X_tr, y_tr)))"
   ]
  },
  {
   "cell_type": "code",
   "execution_count": 148,
   "metadata": {},
   "outputs": [
    {
     "name": "stdout",
     "output_type": "stream",
     "text": [
      "Feature is_cat with the importance of: 0.009\n",
      "Feature is_bird with the importance of: 0.009\n",
      "Feature dim21 with the importance of: 0.008\n",
      "Feature dim51 with the importance of: 0.006\n",
      "Feature dim360 with the importance of: 0.005\n",
      "Feature dim4 with the importance of: 0.005\n",
      "Feature dim76 with the importance of: 0.005\n",
      "Feature dim398 with the importance of: 0.005\n",
      "Feature dim283 with the importance of: 0.005\n",
      "Feature dim479 with the importance of: 0.005\n",
      "Feature dim263 with the importance of: 0.005\n",
      "Feature dim343 with the importance of: 0.005\n",
      "Feature dim423 with the importance of: 0.004\n",
      "Feature dim485 with the importance of: 0.004\n",
      "Feature dim254 with the importance of: 0.004\n",
      "Feature dim461 with the importance of: 0.004\n",
      "Feature dim222 with the importance of: 0.004\n",
      "Feature dim356 with the importance of: 0.004\n",
      "Feature dim74 with the importance of: 0.004\n",
      "Feature dim288 with the importance of: 0.004\n",
      "Feature dim214 with the importance of: 0.004\n",
      "Feature dim348 with the importance of: 0.004\n",
      "Feature dim330 with the importance of: 0.004\n",
      "Feature dim217 with the importance of: 0.004\n",
      "Feature dim483 with the importance of: 0.004\n",
      "Feature dim90 with the importance of: 0.004\n",
      "Feature dim274 with the importance of: 0.004\n",
      "Feature dim347 with the importance of: 0.004\n",
      "Feature dim17 with the importance of: 0.003\n",
      "Feature dim427 with the importance of: 0.003\n",
      "Feature dim35 with the importance of: 0.003\n",
      "Feature dim326 with the importance of: 0.003\n",
      "Feature dim73 with the importance of: 0.003\n",
      "Feature dim312 with the importance of: 0.003\n",
      "Feature dim48 with the importance of: 0.003\n",
      "Feature dim25 with the importance of: 0.003\n",
      "Feature dim315 with the importance of: 0.003\n",
      "Feature dim322 with the importance of: 0.003\n",
      "Feature dim329 with the importance of: 0.003\n",
      "Feature dim500 with the importance of: 0.003\n",
      "Feature dim134 with the importance of: 0.003\n",
      "Feature dim206 with the importance of: 0.003\n",
      "Feature is_aeroplane with the importance of: 0.003\n",
      "Feature dim96 with the importance of: 0.003\n",
      "Feature dim353 with the importance of: 0.003\n",
      "Feature dim442 with the importance of: 0.003\n",
      "Feature dim77 with the importance of: 0.003\n",
      "Feature dim440 with the importance of: 0.003\n",
      "Feature dim171 with the importance of: 0.003\n",
      "Feature dim154 with the importance of: 0.003\n"
     ]
    }
   ],
   "source": [
    "feature_importance = clf.feature_importances_\n",
    "\n",
    "for i in feature_importance.argsort()[-50:][::-1]:\n",
    "    print('Feature {} with the importance of: {:.3f}'.format(X_tr.columns[i], feature_importance[i]))"
   ]
  },
  {
   "cell_type": "code",
   "execution_count": 149,
   "metadata": {},
   "outputs": [
    {
     "data": {
      "image/png": "[encoded data removed]",
      "text/plain": [
       "<matplotlib.figure.Figure at 0x1103d6290>"
      ]
     },
     "metadata": {},
     "output_type": "display_data"
    }
   ],
   "source": [
    "# the 1st strongest feature\n",
    "sns.countplot(x = train_A['is_person'], hue=train_A['is_cat'], data=train_A)\n",
    "plt.xlabel('Images of people')\n",
    "plt.ylabel('Images of cats')\n",
    "ax.set_xticklabels(['Image without a person', 'Image of a person'])\n",
    "_ = plt.title('Distribution of images with cats and people')"
   ]
  },
  {
   "cell_type": "code",
   "execution_count": 150,
   "metadata": {},
   "outputs": [
    {
     "data": {
      "image/png": "[encoded data removed]",
      "text/plain": [
       "<matplotlib.figure.Figure at 0x104b8b910>"
      ]
     },
     "metadata": {},
     "output_type": "display_data"
    }
   ],
   "source": [
    "# the 2nd strongest feature \n",
    "sns.countplot(x = train_A['is_person'], hue=train_A['is_bird'], data=X_tr)\n",
    "plt.xlabel('Images of people')\n",
    "plt.ylabel('Images of birds')\n",
    "ax.set_xticklabels(['Image without a person', 'Image of a person'])\n",
    "_ = plt.title('Distribution of images with birds and people')"
   ]
  },
  {
   "cell_type": "code",
   "execution_count": 151,
   "metadata": {},
   "outputs": [
    {
     "data": {
      "image/png": "[encoded data removed]",
      "text/plain": [
       "<matplotlib.figure.Figure at 0x110280ed0>"
      ]
     },
     "metadata": {},
     "output_type": "display_data"
    }
   ],
   "source": [
    "# correlations between categorical features\n",
    "_ = sns.heatmap(train_A.iloc[:, 501:520].corr())"
   ]
  },
  {
   "cell_type": "markdown",
   "metadata": {},
   "source": [
    "Two strongest features are binary image labels (is_cat and is_bird), and is_airpline also ended up in the top50, possibly because there is a negative correlation between the presence of these objects and a person in the picture. Validation accuracy is slightly higher than in 1.16, however it's still much lower than the training accuracy and the model is overfitting. We have used entropy criterion instead of the default gini impurity but it doesn't affect the results. Most of the top 50 most important visual word counts are the same in Q1.16 and Q1.27. Model built in Q1.27 would be useful in a scenario where we have access to object detection labels and the only one missing is the \"is_person\" label. "
   ]
  },
  {
   "cell_type": "markdown",
   "metadata": {},
   "source": [
    "## Mini challenge [30%]"
   ]
  },
  {
   "cell_type": "markdown",
   "metadata": {},
   "source": [
    "*Important: You are allowed to write up to a maximum of 600 words in this part of the assignment. The thoroughness of the exploration and the quality of the resulting discussion is just as important as the final classification performance of your chosen method(s) and credit will be divided accordingly.*"
   ]
  },
  {
   "cell_type": "markdown",
   "metadata": {},
   "source": [
    "In this final part of the assignment we will have a mini object-recognition challenge. Using the data provided you are asked to find the best classiffier for the person/no person classification task. You can apply any preprocessing steps to the data that you think fit and employ any classifier you like (with the provison that you can explain what the classifier is/preprocessing steps are doing). You can also employ any lessons learnt during the course, either from previous Assignments, the Labs or the lecture material to try and squeeze out as much performance as you possibly can. The only restriction is that all steps must be performed in `Python` by using the `numpy`, `pandas` and `sklearn` packages. You can also make use of `matplotlib` and `seaborn` for visualisation. "
   ]
  },
  {
   "cell_type": "markdown",
   "metadata": {},
   "source": [
    "**Important:** The classification performance metric that we will use for this part is the *cross-entropy* or *logarithmic loss* (see the labs). You should familiarise yourself with the metric by reading the `sklearn` [user guide](http://scikit-learn.org/stable/modules/model_evaluation.html#log-loss) and [documentation](http://scikit-learn.org/stable/modules/generated/sklearn.metrics.log_loss.html#sklearn.metrics.log_loss). To estimate this metric you will need to evaluate probability outputs, as opposed to discrete predictions which we have used so far to compute classification accuracies. Most models in `sklearn` implement a `predict_proba()` method which returns the probabilities for each class. For instance, if your test set consists of `N` datapoints and there are `K` classes, the method will return a `N` x `K` matrix."
   ]
  },
  {
   "cell_type": "markdown",
   "metadata": {},
   "source": [
    "We provide you with three new data sets: a training set (`train_images_partB.csv`), a validation set (`valid_images_partB.csv`), and a test set (`test_images_partB.csv`). You must use the former two for training and evaluating your models (as you see fit). Once you have chosen your favourite model (and pre-processing steps) you should apply it to the test set (for which no labels are provided). Estimate the posterior proabilities for the data points in the test set and submit your results as part of your answer. Your results will be evaluated in terms of the logarithmic loss metric. You also need to submit a brief description of the approaches you considered, your suggested final approach, and a short explanation of why you chose it. The thoroughness of the exploration and the quality of the resulting discussion is just as important as the final score of your chosen method(s) and credit will be divided accordingly.\n",
    "\n",
    "*Hint: Feature engineering, feature combination, model combination and model parameter optimization can significantly improve performance.*"
   ]
  },
  {
   "cell_type": "markdown",
   "metadata": {},
   "source": [
    "**How to submit your results**: Store the estimated probabilities for the data points in the test set in a 2D numpy array. Then execute the provided cell at the end of this notebook which uses a provided `save_predictions` function to export your results into a `.txt` file (the function will return an error if the provided array has not the right shape). The `.txt` file will be saved where your notebook lives. Submit this file along with your notebook as detailed at the top of this file."
   ]
  },
  {
   "cell_type": "markdown",
   "metadata": {},
   "source": [
    "*Your answer goes here (max. 600 words)*\n",
    "\n"
   ]
  },
  {
   "cell_type": "code",
   "execution_count": 152,
   "metadata": {
    "collapsed": true
   },
   "outputs": [],
   "source": [
    "# Loading the data\n",
    "\n",
    "train_B = pd.read_csv(data_path + '/train_images_partB.csv')\n",
    "valid_B = pd.read_csv(data_path + '/valid_images_partB.csv')\n",
    "test_B = pd.read_csv(data_path + '/test_images_partB.csv')"
   ]
  },
  {
   "cell_type": "code",
   "execution_count": 153,
   "metadata": {},
   "outputs": [
    {
     "name": "stdout",
     "output_type": "stream",
     "text": [
      "Number of data points in train_B: 2113, number of attributes: 520\n",
      "Number of data point in valid_B: 1113, number of attributes: 520\n",
      "Number of data point in test_B: 1114, number of attributes: 501\n"
     ]
    }
   ],
   "source": [
    "# Basic statistics \n",
    "\n",
    "print('Number of data points in train_B: {}, number of attributes: {}'.format(train_B.shape[0], train_B.shape[1]))\n",
    "print('Number of data point in valid_B: {}, number of attributes: {}'.format(valid_B.shape[0], valid_B.shape[1]))\n",
    "print('Number of data point in test_B: {}, number of attributes: {}'.format(test_B.shape[0], test_B.shape[1]))"
   ]
  },
  {
   "cell_type": "code",
   "execution_count": 154,
   "metadata": {
    "collapsed": true
   },
   "outputs": [],
   "source": [
    "# Preprocessing 1: removing the labels and id from the validation and training data, defining the target variable\n",
    "\n",
    "features = train_B.iloc[:,1:501]\n",
    "features_names = features.columns.tolist()\n",
    "\n",
    "X_tr = train_B[features_names]\n",
    "y_tr = train_B['is_person']\n",
    "\n",
    "X_val = valid_B[features_names]\n",
    "y_val = valid_B['is_person']"
   ]
  },
  {
   "cell_type": "code",
   "execution_count": 155,
   "metadata": {
    "collapsed": true
   },
   "outputs": [],
   "source": [
    "# Prep 2: scaling\n",
    "\n",
    "scaler = StandardScaler()\n",
    "scaler.fit(X_tr)\n",
    "\n",
    "X_tr_trans = scaler.transform(X_tr)\n",
    "X_val_trans = scaler.transform(X_val)"
   ]
  },
  {
   "cell_type": "markdown",
   "metadata": {},
   "source": [
    "In the first part of the assignment, we did a (partial) hyperparameter optimization of the following models with respect to accuracy metric:\n",
    "\n",
    "- logistic regression \n",
    "- SVM with polynomial kernel\n",
    "- SVM with RBF kernel\n",
    "\n",
    "So far, we have used Random Forest with fixed parameters and mostly to see feature importance. \n",
    "As the first step in the challenge, I'm going to train these models on the new training data with default parameters - we are given the validation set so I'm not going to use k-fold - and check the logloss on validation set. Next, based on the results I will explore the best models and see how the results can be improved with different feature engineering techniques. "
   ]
  },
  {
   "cell_type": "code",
   "execution_count": 156,
   "metadata": {},
   "outputs": [
    {
     "name": "stdout",
     "output_type": "stream",
     "text": [
      "Validation log loss for Logistic Regression: 0.663\n",
      "Validation log loss for SVM with polynomial kernel: 0.693\n",
      "Validation log loss for SVM with RBF kernel: 0.693\n",
      "Validation log loss for Random Forest: 0.591\n",
      "Validation log loss for Gradient Boosting Classifier: 0.573\n"
     ]
    }
   ],
   "source": [
    "lr = LogisticRegression(solver='lbfgs')\n",
    "svm_poly = SVC(kernel='poly', probability=True)\n",
    "svm_rbf = SVC(kernel='rbf', probability=True)\n",
    "rf = RandomForestClassifier(n_estimators=100)\n",
    "xgb = GradientBoostingClassifier(n_estimators=100)\n",
    "# mlp = MLPClassifier()\n",
    "\n",
    "lr.fit(X_tr_trans, y_tr)\n",
    "svm_poly.fit(X_tr_trans, y_tr)\n",
    "svm_rbf.fit(X_tr_trans, y_tr)\n",
    "rf.fit(X_tr_trans, y_tr)\n",
    "xgb.fit(X_tr_trans, y_tr)\n",
    "# mlp.fit(trans_X_tr, y_tr)\n",
    "\n",
    "print(\"Validation log loss for Logistic Regression: {:.3f}\".format(log_loss(y_val, lr.predict_proba(X_val_trans))))\n",
    "print(\"Validation log loss for SVM with polynomial kernel: {:.3f}\".format(log_loss(y_val, svm_poly.predict_proba(X_val_trans))))\n",
    "print(\"Validation log loss for SVM with RBF kernel: {:.3f}\".format(log_loss(y_val, svm_rbf.predict_proba(X_val_trans))))\n",
    "print(\"Validation log loss for Random Forest: {:.3f}\".format(log_loss(y_val, rf.predict_proba(X_val_trans))))\n",
    "print(\"Validation log loss for Gradient Boosting Classifier: {:.3f}\".format(log_loss(y_val, xgb.predict_proba(X_val_trans))))\n",
    "# print(\"Validation log loss for Neural Network: {}\".format(log_loss(y_val, mlp.predict_proba(trans_X_val))))"
   ]
  },
  {
   "cell_type": "markdown",
   "metadata": {},
   "source": [
    "Unsuprisingly, ensemble method of Gradient Boosting trees gives the best log-loss. The data is highly dimensional, so it's worth trying PCA. We will see how many components are enough to represent the given datset. I will also explore how far we can go with the simplest algoritm (Logistic Regression) as maybe it's not necessary to introduce more advanced models."
   ]
  },
  {
   "cell_type": "code",
   "execution_count": 157,
   "metadata": {},
   "outputs": [
    {
     "name": "stdout",
     "output_type": "stream",
     "text": [
      "14\n"
     ]
    },
    {
     "data": {
      "image/png": "[encoded data removed]",
      "text/plain": [
       "<matplotlib.figure.Figure at 0x11b002b50>"
      ]
     },
     "metadata": {},
     "output_type": "display_data"
    }
   ],
   "source": [
    "n_components=X_tr_trans.shape[1]\n",
    "pca = PCA(n_components, random_state=1337)\n",
    "X_trans = pca.fit_transform(X_tr_trans)\n",
    "\n",
    "\n",
    "var = 0\n",
    "for i in range(n_components):\n",
    "    var = var + pca.explained_variance_ratio_[i]\n",
    "    # print(\"Cumulative sum at the component {} is {}\".format(i, var)) \n",
    "    if var > 0.95:\n",
    "        print(i)\n",
    "        break\n",
    "\n",
    "plt.figure(1, figsize=(8, 6))\n",
    "plt.plot(pca.explained_variance_ratio_, linewidth=2)\n",
    "plt.axis('tight')\n",
    "plt.xlabel('n_components')\n",
    "plt.ylabel('explained_variance_ratio')\n",
    "plt.title(\"Explained variance ratio by each of the components\")\n",
    "\n",
    "plt.vlines(14, -0.01, 0.15, color='b',linestyles=':')\n",
    "_= plt.annotate('95% of variance explained', \n",
    "             xy=(30, 0.13),  \n",
    "             xycoords='data')"
   ]
  },
  {
   "cell_type": "markdown",
   "metadata": {},
   "source": [
    "14 components are enough to represent 95% of the variance. "
   ]
  },
  {
   "cell_type": "code",
   "execution_count": 158,
   "metadata": {},
   "outputs": [
    {
     "name": "stdout",
     "output_type": "stream",
     "text": [
      "Validation log loss for Gradient Boosting Classifier after PCA: 0.645\n",
      "Validation log loss for SVM-RBF after PCA: 0.693\n"
     ]
    }
   ],
   "source": [
    "n_components=14\n",
    "pca = PCA(n_components, random_state=1337)\n",
    "X_trans = pca.fit_transform(X_tr_trans)\n",
    "X_trans_val = pca.transform(X_val_trans)\n",
    "\n",
    "xgb = GradientBoostingClassifier(n_estimators=100)\n",
    "xgb.fit(X_trans, y_tr)\n",
    "print(\"Validation log loss for Gradient Boosting Classifier after PCA: {:.3f}\".format(log_loss(y_val, xgb.predict_proba(X_trans_val))))\n",
    "                                                                       \n",
    "svm_rbf = SVC(kernel='rbf', probability=True)\n",
    "svm_rbf.fit(X_trans, y_tr)\n",
    "print(\"Validation log loss for SVM-RBF after PCA: {:.3f}\".format(log_loss(y_val, svm_rbf.predict_proba(X_trans_val))))"
   ]
  },
  {
   "cell_type": "code",
   "execution_count": 159,
   "metadata": {},
   "outputs": [
    {
     "name": "stdout",
     "output_type": "stream",
     "text": [
      "Logistic Regression scores: [ 0.69297059  0.69294963  0.69293717  0.69292735  0.69292023  0.69291454\n",
      "  0.69290459  0.69287931  0.69274972  0.69218576  0.69047914  0.68665133\n",
      "  0.6815059   0.67700463  0.67511731  0.6758701   0.67722039  0.67635765\n",
      "  0.67636972  0.67629657]\n"
     ]
    }
   ],
   "source": [
    "scores = np.zeros([20])\n",
    "\n",
    "C_range = np.logspace(-5, 5, 20)\n",
    "\n",
    "for j, C in enumerate(C_range, 0):\n",
    "    lr = LogisticRegression(solver=\"lbfgs\", C=C)\n",
    "    lr.fit(X_trans, y_tr)\n",
    "    scores[j] = log_loss(y_val, lr.predict_proba(X_trans_val)) \n",
    "    \n",
    "print(\"Logistic Regression scores: {}\".format(scores))"
   ]
  },
  {
   "cell_type": "markdown",
   "metadata": {},
   "source": [
    "I'm going to try standard feature selection method to see if it's going to improve the results."
   ]
  },
  {
   "cell_type": "code",
   "execution_count": 160,
   "metadata": {},
   "outputs": [
    {
     "name": "stdout",
     "output_type": "stream",
     "text": [
      "Validation log loss for SVM with RBF kernel and anova filter (k=10): 0.693\n",
      "Validation log loss for XGB with anova filter (k=10): 0.663\n",
      "Validation log loss for SVM with RBF kernel and anova filter (k=30) without PCA: 0.693\n",
      "Validation log loss for XGB with anova filter (k=30) without PCA: 0.624\n"
     ]
    }
   ],
   "source": [
    "anova_filter = SelectKBest(f_classif, k=10)\n",
    "# chi2 = SelectKBest(chi2, k=30)\n",
    "\n",
    "xgb = GradientBoostingClassifier(n_estimators=100)\n",
    "svm_rbf = SVC(kernel='rbf', probability=True)\n",
    "\n",
    "anova_svm = make_pipeline(anova_filter, svm_rbf)\n",
    "anova_xgb = make_pipeline(anova_filter, xgb)\n",
    "\n",
    "anova_svm.fit(X_trans, y_tr)\n",
    "anova_xgb.fit(X_trans, y_tr)\n",
    "\n",
    "print(\"Validation log loss for SVM with RBF kernel and anova filter (k=10): {:.3f}\".format(log_loss(y_val, anova_svm.predict_proba(X_trans_val))))\n",
    "print(\"Validation log loss for XGB with anova filter (k=10): {:.3f}\".format(log_loss(y_val, anova_xgb.predict_proba(X_trans_val))))\n",
    "\n",
    "# on the full dataset\n",
    "\n",
    "anova_filter = SelectKBest(f_classif, k=30)\n",
    "# chi2 = SelectKBest(chi2, k=30)\n",
    "\n",
    "xgb = GradientBoostingClassifier(n_estimators=100)\n",
    "svm_rbf = SVC(kernel='rbf', probability=True)\n",
    "\n",
    "anova_svm = make_pipeline(anova_filter, svm_rbf)\n",
    "anova_xgb = make_pipeline(anova_filter, xgb)\n",
    "\n",
    "anova_svm.fit(X_tr_trans, y_tr)\n",
    "anova_xgb.fit(X_tr_trans, y_tr)\n",
    "\n",
    "print(\"Validation log loss for SVM with RBF kernel and anova filter (k=30) without PCA: {:.3f}\".format(log_loss(y_val, anova_svm.predict_proba(X_val_trans))))\n",
    "print(\"Validation log loss for XGB with anova filter (k=30) without PCA: {:.3f}\".format(log_loss(y_val, anova_xgb.predict_proba(X_val_trans))))"
   ]
  },
  {
   "cell_type": "markdown",
   "metadata": {},
   "source": [
    "For SVM-RBF we would be interested in optimizing C and gamma for this problems (classes are roughly balanced so I'm leaving the class_weight as None). "
   ]
  },
  {
   "cell_type": "code",
   "execution_count": 161,
   "metadata": {
    "collapsed": true
   },
   "outputs": [],
   "source": [
    "C_range = np.logspace(-2, 1, 4)\n",
    "gamma_range = np.logspace(-4, -1, 4)\n",
    "\n",
    "scores = np.zeros([len(C_range), len(gamma_range)])\n",
    "\n",
    "for i, C in enumerate(C_range):\n",
    "    for j, gamma in enumerate(gamma_range):\n",
    "        svc_rbf = SVC(kernel='rbf', C=C, gamma=gamma, probability=True)\n",
    "        svc_rbf.fit(X_trans, y_tr)\n",
    "        scores[i][j] = log_loss(y_val, svc_rbf.predict_proba(X_trans_val))"
   ]
  },
  {
   "cell_type": "code",
   "execution_count": 162,
   "metadata": {},
   "outputs": [
    {
     "data": {
      "text/plain": [
       "array([[ 0.69345915,  0.69317473,  0.69270402,  0.69323482],\n",
       "       [ 0.69294078,  0.69288138,  0.69288972,  0.6934026 ],\n",
       "       [ 0.69290762,  0.69291614,  0.69295182,  0.69303108],\n",
       "       [ 0.69294102,  0.69291847,  0.69303475,  0.6927806 ]])"
      ]
     },
     "execution_count": 162,
     "metadata": {},
     "output_type": "execute_result"
    }
   ],
   "source": [
    "scores"
   ]
  },
  {
   "cell_type": "code",
   "execution_count": 163,
   "metadata": {},
   "outputs": [
    {
     "name": "stdout",
     "output_type": "stream",
     "text": [
      "Validation log loss for Gradient Boosting Classifier: 0.573\n"
     ]
    }
   ],
   "source": [
    "# the best classifier so far \n",
    "\n",
    "xgb = GradientBoostingClassifier(n_estimators=100)\n",
    "xgb.fit(X_tr, y_tr) # no effect of scaling\n",
    "print(\"Validation log loss for Gradient Boosting Classifier: {:.3f}\".format(log_loss(y_val, xgb.predict_proba(X_val))))"
   ]
  },
  {
   "cell_type": "code",
   "execution_count": 164,
   "metadata": {},
   "outputs": [
    {
     "name": "stdout",
     "output_type": "stream",
     "text": [
      "Feature dim38 with the importance of: 0.018\n",
      "Feature dim51 with the importance of: 0.018\n",
      "Feature dim500 with the importance of: 0.017\n",
      "Feature dim485 with the importance of: 0.015\n",
      "Feature dim222 with the importance of: 0.015\n",
      "Feature dim254 with the importance of: 0.014\n",
      "Feature dim330 with the importance of: 0.013\n",
      "Feature dim160 with the importance of: 0.013\n",
      "Feature dim21 with the importance of: 0.012\n",
      "Feature dim423 with the importance of: 0.011\n",
      "Feature dim294 with the importance of: 0.011\n",
      "Feature dim137 with the importance of: 0.010\n",
      "Feature dim35 with the importance of: 0.010\n",
      "Feature dim323 with the importance of: 0.009\n",
      "Feature dim263 with the importance of: 0.009\n",
      "Feature dim161 with the importance of: 0.009\n",
      "Feature dim417 with the importance of: 0.009\n",
      "Feature dim188 with the importance of: 0.009\n",
      "Feature dim405 with the importance of: 0.009\n",
      "Feature dim264 with the importance of: 0.009\n",
      "Feature dim360 with the importance of: 0.008\n",
      "Feature dim443 with the importance of: 0.008\n",
      "Feature dim416 with the importance of: 0.008\n",
      "Feature dim118 with the importance of: 0.008\n",
      "Feature dim407 with the importance of: 0.008\n",
      "Feature dim76 with the importance of: 0.008\n",
      "Feature dim334 with the importance of: 0.008\n",
      "Feature dim274 with the importance of: 0.007\n",
      "Feature dim329 with the importance of: 0.007\n",
      "Feature dim217 with the importance of: 0.007\n",
      "Feature dim171 with the importance of: 0.007\n",
      "Feature dim126 with the importance of: 0.007\n",
      "Feature dim343 with the importance of: 0.007\n",
      "Feature dim288 with the importance of: 0.007\n",
      "Feature dim71 with the importance of: 0.007\n",
      "Feature dim15 with the importance of: 0.007\n",
      "Feature dim277 with the importance of: 0.006\n",
      "Feature dim390 with the importance of: 0.006\n",
      "Feature dim79 with the importance of: 0.006\n",
      "Feature dim96 with the importance of: 0.006\n",
      "Feature dim317 with the importance of: 0.006\n",
      "Feature dim244 with the importance of: 0.006\n",
      "Feature dim498 with the importance of: 0.006\n",
      "Feature dim326 with the importance of: 0.006\n",
      "Feature dim54 with the importance of: 0.006\n",
      "Feature dim84 with the importance of: 0.006\n",
      "Feature dim453 with the importance of: 0.006\n",
      "Feature dim479 with the importance of: 0.006\n",
      "Feature dim307 with the importance of: 0.005\n",
      "Feature dim130 with the importance of: 0.005\n"
     ]
    }
   ],
   "source": [
    "feature_importance = xgb.feature_importances_\n",
    "for i in feature_importance.argsort()[-50:][::-1]:\n",
    "    print('Feature {} with the importance of: {:.3f}'.format(X_tr.columns[i], feature_importance[i]))"
   ]
  },
  {
   "cell_type": "code",
   "execution_count": 165,
   "metadata": {},
   "outputs": [
    {
     "data": {
      "text/plain": [
       "array([[ 0.90839274,  0.09160726],\n",
       "       [ 0.95288324,  0.04711676],\n",
       "       [ 0.46650157,  0.53349843],\n",
       "       ..., \n",
       "       [ 0.58674245,  0.41325755],\n",
       "       [ 0.73612961,  0.26387039],\n",
       "       [ 0.32575891,  0.67424109]])"
      ]
     },
     "execution_count": 165,
     "metadata": {},
     "output_type": "execute_result"
    }
   ],
   "source": [
    "XB_test = test_B.drop('is_person', axis = 1)\n",
    "test_images_partB_pred_proba = xgb.predict_proba(XB_test)\n",
    "test_images_partB_pred_proba"
   ]
  },
  {
   "cell_type": "code",
   "execution_count": 166,
   "metadata": {
    "collapsed": true
   },
   "outputs": [],
   "source": [
    "# Execute this cell to export your results\n",
    "from numpy import savetxt\n",
    "def save_predictions(pred_proba):\n",
    "    if pred_proba.shape != (1114,2):\n",
    "        raise ValueError('Predicted probabilities array is not the right shape.')\n",
    "    \n",
    "    savetxt('assignment_3_predictions.txt', pred_proba)\n",
    "\n",
    "# You need to replace \"test_images_partB_pred_proba\"\n",
    "# with the name of the array which contains the probability \n",
    "# estimates for the data in the test set.\n",
    "save_predictions(test_images_partB_pred_proba) "
   ]
  },
  {
   "cell_type": "markdown",
   "metadata": {
    "collapsed": true
   },
   "source": [
    "# Appendix"
   ]
  },
  {
   "cell_type": "markdown",
   "metadata": {},
   "source": [
    "## More information about visual words"
   ]
  },
  {
   "cell_type": "markdown",
   "metadata": {},
   "source": [
    "Visual words are based on [Scale-invariant feature transforms (SIFT)](https://en.wikipedia.org/wiki/Scale-invariant_feature_transform). SIFT features are essentially local orientation histograms and capture the properties of small image regions. They possess attractive invariance properties which make them well suited for our task (you can read more about SIFT features in [D.Lowe, IJCV 60(2):91- 110, 2004](http://link.springer.com/article/10.1023/B:VISI.0000029664.99615.94), but the details don't matter for the purpose of this assignment). Each SIFT feature is a 128 dimensional vector. From each image many SIFT features are extracted, typically > 2500 per image (features are extracted at regular intervals using a 15 pixel grid and at 4 different scales). To obtain visual words a representative subset of all extracted SIFT features from all images is chosen and clustered with k-means using 500 centres (such use of the k-means algorithm will be discussed in detail during the lecture). These 500 cluster centres form our visual words. The representation of a single image is obtained by first assigning each SIFT feature extracted from the image to the appropriate cluster (i.e. we determine the visual word corresponding to each feature by picking the closest cluster centre). We then count the number of features from that image assigned to each cluster (i.e. we determine how often each visual word is present in the image). This results in a 500 dimensional count vector for each image (one dimension for each visual word). The normalized version of this count vector gives the final representation of the image (normalized means that we divide the count vector by the total number of visual words in the image, i.e. the normalized counts sum to 1 for each image)"
   ]
  }
 ],
 "metadata": {
  "anaconda-cloud": {},
  "kernelspec": {
   "display_name": "Python 2",
   "language": "python",
   "name": "python2"
  },
  "language_info": {
   "codemirror_mode": {
    "name": "ipython",
    "version": 2
   },
   "file_extension": ".py",
   "mimetype": "text/x-python",
   "name": "python",
   "nbconvert_exporter": "python",
   "pygments_lexer": "ipython2",
   "version": "2.7.13"
  }
 },
 "nbformat": 4,
 "nbformat_minor": 1
}
